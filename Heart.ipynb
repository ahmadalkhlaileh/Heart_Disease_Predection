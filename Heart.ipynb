{
  "cells": [
    {
      "cell_type": "code",
      "execution_count": 1,
      "metadata": {
        "id": "ylHyM0EApMSV"
      },
      "outputs": [],
      "source": [
        "import numpy as np\n",
        "import pandas as pd"
      ]
    },
    {
      "cell_type": "code",
      "execution_count": 2,
      "metadata": {
        "id": "gkuT-H5MztJp"
      },
      "outputs": [],
      "source": [
        "df = pd.read_csv('/content/Heart.csv')"
      ]
    },
    {
      "cell_type": "markdown",
      "metadata": {
        "id": "-HrcoBfF7101"
      },
      "source": [
        "#  Data Exploration\n",
        "* **Basic exploration of the dataset including shape, head, tail, unique values, missing values, duplicates, and summary statistics.**\n",
        "\n",
        "\n",
        "\n",
        "\n",
        "\n"
      ]
    },
    {
      "cell_type": "code",
      "execution_count": 3,
      "metadata": {
        "colab": {
          "base_uri": "https://localhost:8080/"
        },
        "id": "WILCSm30wzEv",
        "outputId": "b1c30cff-52c1-497a-c321-59f3afeda437"
      },
      "outputs": [
        {
          "data": {
            "text/plain": [
              "(918, 12)"
            ]
          },
          "execution_count": 3,
          "metadata": {},
          "output_type": "execute_result"
        }
      ],
      "source": [
        "df.shape"
      ]
    },
    {
      "cell_type": "code",
      "execution_count": 4,
      "metadata": {
        "colab": {
          "base_uri": "https://localhost:8080/",
          "height": 206
        },
        "id": "jyzucKG0w8M9",
        "outputId": "708774d6-e175-4ba1-b4b3-e7ff98164289"
      },
      "outputs": [
        {
          "data": {
            "application/vnd.google.colaboratory.intrinsic+json": {
              "summary": "{\n  \"name\": \"df\",\n  \"rows\": 918,\n  \"fields\": [\n    {\n      \"column\": \"Age\",\n      \"properties\": {\n        \"dtype\": \"number\",\n        \"std\": 9,\n        \"min\": 28,\n        \"max\": 77,\n        \"num_unique_values\": 50,\n        \"samples\": [\n          44,\n          68,\n          66\n        ],\n        \"semantic_type\": \"\",\n        \"description\": \"\"\n      }\n    },\n    {\n      \"column\": \"Sex\",\n      \"properties\": {\n        \"dtype\": \"category\",\n        \"num_unique_values\": 2,\n        \"samples\": [\n          \"F\",\n          \"M\"\n        ],\n        \"semantic_type\": \"\",\n        \"description\": \"\"\n      }\n    },\n    {\n      \"column\": \"ChestPainType\",\n      \"properties\": {\n        \"dtype\": \"category\",\n        \"num_unique_values\": 4,\n        \"samples\": [\n          \"NAP\",\n          \"TA\"\n        ],\n        \"semantic_type\": \"\",\n        \"description\": \"\"\n      }\n    },\n    {\n      \"column\": \"RestingBP\",\n      \"properties\": {\n        \"dtype\": \"number\",\n        \"std\": 18,\n        \"min\": 0,\n        \"max\": 200,\n        \"num_unique_values\": 67,\n        \"samples\": [\n          165,\n          118\n        ],\n        \"semantic_type\": \"\",\n        \"description\": \"\"\n      }\n    },\n    {\n      \"column\": \"Cholesterol\",\n      \"properties\": {\n        \"dtype\": \"number\",\n        \"std\": 109,\n        \"min\": 0,\n        \"max\": 603,\n        \"num_unique_values\": 222,\n        \"samples\": [\n          305,\n          321\n        ],\n        \"semantic_type\": \"\",\n        \"description\": \"\"\n      }\n    },\n    {\n      \"column\": \"FastingBS\",\n      \"properties\": {\n        \"dtype\": \"number\",\n        \"std\": 0,\n        \"min\": 0,\n        \"max\": 1,\n        \"num_unique_values\": 2,\n        \"samples\": [\n          1,\n          0\n        ],\n        \"semantic_type\": \"\",\n        \"description\": \"\"\n      }\n    },\n    {\n      \"column\": \"RestingECG\",\n      \"properties\": {\n        \"dtype\": \"category\",\n        \"num_unique_values\": 3,\n        \"samples\": [\n          \"Normal\",\n          \"ST\"\n        ],\n        \"semantic_type\": \"\",\n        \"description\": \"\"\n      }\n    },\n    {\n      \"column\": \"MaxHR\",\n      \"properties\": {\n        \"dtype\": \"number\",\n        \"std\": 25,\n        \"min\": 60,\n        \"max\": 202,\n        \"num_unique_values\": 119,\n        \"samples\": [\n          132,\n          157\n        ],\n        \"semantic_type\": \"\",\n        \"description\": \"\"\n      }\n    },\n    {\n      \"column\": \"ExerciseAngina\",\n      \"properties\": {\n        \"dtype\": \"category\",\n        \"num_unique_values\": 2,\n        \"samples\": [\n          \"Y\",\n          \"N\"\n        ],\n        \"semantic_type\": \"\",\n        \"description\": \"\"\n      }\n    },\n    {\n      \"column\": \"Oldpeak\",\n      \"properties\": {\n        \"dtype\": \"number\",\n        \"std\": 1.0665701510493233,\n        \"min\": -2.6,\n        \"max\": 6.2,\n        \"num_unique_values\": 53,\n        \"samples\": [\n          1.3,\n          0.6\n        ],\n        \"semantic_type\": \"\",\n        \"description\": \"\"\n      }\n    },\n    {\n      \"column\": \"ST_Slope\",\n      \"properties\": {\n        \"dtype\": \"category\",\n        \"num_unique_values\": 3,\n        \"samples\": [\n          \"Up\",\n          \"Flat\"\n        ],\n        \"semantic_type\": \"\",\n        \"description\": \"\"\n      }\n    },\n    {\n      \"column\": \"HeartDisease\",\n      \"properties\": {\n        \"dtype\": \"number\",\n        \"std\": 0,\n        \"min\": 0,\n        \"max\": 1,\n        \"num_unique_values\": 2,\n        \"samples\": [\n          1,\n          0\n        ],\n        \"semantic_type\": \"\",\n        \"description\": \"\"\n      }\n    }\n  ]\n}",
              "type": "dataframe",
              "variable_name": "df"
            },
            "text/html": [
              "\n",
              "  <div id=\"df-12946e65-5e7d-438d-bd7a-1dc68e05ce1f\" class=\"colab-df-container\">\n",
              "    <div>\n",
              "<style scoped>\n",
              "    .dataframe tbody tr th:only-of-type {\n",
              "        vertical-align: middle;\n",
              "    }\n",
              "\n",
              "    .dataframe tbody tr th {\n",
              "        vertical-align: top;\n",
              "    }\n",
              "\n",
              "    .dataframe thead th {\n",
              "        text-align: right;\n",
              "    }\n",
              "</style>\n",
              "<table border=\"1\" class=\"dataframe\">\n",
              "  <thead>\n",
              "    <tr style=\"text-align: right;\">\n",
              "      <th></th>\n",
              "      <th>Age</th>\n",
              "      <th>Sex</th>\n",
              "      <th>ChestPainType</th>\n",
              "      <th>RestingBP</th>\n",
              "      <th>Cholesterol</th>\n",
              "      <th>FastingBS</th>\n",
              "      <th>RestingECG</th>\n",
              "      <th>MaxHR</th>\n",
              "      <th>ExerciseAngina</th>\n",
              "      <th>Oldpeak</th>\n",
              "      <th>ST_Slope</th>\n",
              "      <th>HeartDisease</th>\n",
              "    </tr>\n",
              "  </thead>\n",
              "  <tbody>\n",
              "    <tr>\n",
              "      <th>0</th>\n",
              "      <td>40</td>\n",
              "      <td>M</td>\n",
              "      <td>ATA</td>\n",
              "      <td>140</td>\n",
              "      <td>289</td>\n",
              "      <td>0</td>\n",
              "      <td>Normal</td>\n",
              "      <td>172</td>\n",
              "      <td>N</td>\n",
              "      <td>0.0</td>\n",
              "      <td>Up</td>\n",
              "      <td>0</td>\n",
              "    </tr>\n",
              "    <tr>\n",
              "      <th>1</th>\n",
              "      <td>49</td>\n",
              "      <td>F</td>\n",
              "      <td>NAP</td>\n",
              "      <td>160</td>\n",
              "      <td>180</td>\n",
              "      <td>0</td>\n",
              "      <td>Normal</td>\n",
              "      <td>156</td>\n",
              "      <td>N</td>\n",
              "      <td>1.0</td>\n",
              "      <td>Flat</td>\n",
              "      <td>1</td>\n",
              "    </tr>\n",
              "    <tr>\n",
              "      <th>2</th>\n",
              "      <td>37</td>\n",
              "      <td>M</td>\n",
              "      <td>ATA</td>\n",
              "      <td>130</td>\n",
              "      <td>283</td>\n",
              "      <td>0</td>\n",
              "      <td>ST</td>\n",
              "      <td>98</td>\n",
              "      <td>N</td>\n",
              "      <td>0.0</td>\n",
              "      <td>Up</td>\n",
              "      <td>0</td>\n",
              "    </tr>\n",
              "    <tr>\n",
              "      <th>3</th>\n",
              "      <td>48</td>\n",
              "      <td>F</td>\n",
              "      <td>ASY</td>\n",
              "      <td>138</td>\n",
              "      <td>214</td>\n",
              "      <td>0</td>\n",
              "      <td>Normal</td>\n",
              "      <td>108</td>\n",
              "      <td>Y</td>\n",
              "      <td>1.5</td>\n",
              "      <td>Flat</td>\n",
              "      <td>1</td>\n",
              "    </tr>\n",
              "    <tr>\n",
              "      <th>4</th>\n",
              "      <td>54</td>\n",
              "      <td>M</td>\n",
              "      <td>NAP</td>\n",
              "      <td>150</td>\n",
              "      <td>195</td>\n",
              "      <td>0</td>\n",
              "      <td>Normal</td>\n",
              "      <td>122</td>\n",
              "      <td>N</td>\n",
              "      <td>0.0</td>\n",
              "      <td>Up</td>\n",
              "      <td>0</td>\n",
              "    </tr>\n",
              "  </tbody>\n",
              "</table>\n",
              "</div>\n",
              "    <div class=\"colab-df-buttons\">\n",
              "\n",
              "  <div class=\"colab-df-container\">\n",
              "    <button class=\"colab-df-convert\" onclick=\"convertToInteractive('df-12946e65-5e7d-438d-bd7a-1dc68e05ce1f')\"\n",
              "            title=\"Convert this dataframe to an interactive table.\"\n",
              "            style=\"display:none;\">\n",
              "\n",
              "  <svg xmlns=\"http://www.w3.org/2000/svg\" height=\"24px\" viewBox=\"0 -960 960 960\">\n",
              "    <path d=\"M120-120v-720h720v720H120Zm60-500h600v-160H180v160Zm220 220h160v-160H400v160Zm0 220h160v-160H400v160ZM180-400h160v-160H180v160Zm440 0h160v-160H620v160ZM180-180h160v-160H180v160Zm440 0h160v-160H620v160Z\"/>\n",
              "  </svg>\n",
              "    </button>\n",
              "\n",
              "  <style>\n",
              "    .colab-df-container {\n",
              "      display:flex;\n",
              "      gap: 12px;\n",
              "    }\n",
              "\n",
              "    .colab-df-convert {\n",
              "      background-color: #E8F0FE;\n",
              "      border: none;\n",
              "      border-radius: 50%;\n",
              "      cursor: pointer;\n",
              "      display: none;\n",
              "      fill: #1967D2;\n",
              "      height: 32px;\n",
              "      padding: 0 0 0 0;\n",
              "      width: 32px;\n",
              "    }\n",
              "\n",
              "    .colab-df-convert:hover {\n",
              "      background-color: #E2EBFA;\n",
              "      box-shadow: 0px 1px 2px rgba(60, 64, 67, 0.3), 0px 1px 3px 1px rgba(60, 64, 67, 0.15);\n",
              "      fill: #174EA6;\n",
              "    }\n",
              "\n",
              "    .colab-df-buttons div {\n",
              "      margin-bottom: 4px;\n",
              "    }\n",
              "\n",
              "    [theme=dark] .colab-df-convert {\n",
              "      background-color: #3B4455;\n",
              "      fill: #D2E3FC;\n",
              "    }\n",
              "\n",
              "    [theme=dark] .colab-df-convert:hover {\n",
              "      background-color: #434B5C;\n",
              "      box-shadow: 0px 1px 3px 1px rgba(0, 0, 0, 0.15);\n",
              "      filter: drop-shadow(0px 1px 2px rgba(0, 0, 0, 0.3));\n",
              "      fill: #FFFFFF;\n",
              "    }\n",
              "  </style>\n",
              "\n",
              "    <script>\n",
              "      const buttonEl =\n",
              "        document.querySelector('#df-12946e65-5e7d-438d-bd7a-1dc68e05ce1f button.colab-df-convert');\n",
              "      buttonEl.style.display =\n",
              "        google.colab.kernel.accessAllowed ? 'block' : 'none';\n",
              "\n",
              "      async function convertToInteractive(key) {\n",
              "        const element = document.querySelector('#df-12946e65-5e7d-438d-bd7a-1dc68e05ce1f');\n",
              "        const dataTable =\n",
              "          await google.colab.kernel.invokeFunction('convertToInteractive',\n",
              "                                                    [key], {});\n",
              "        if (!dataTable) return;\n",
              "\n",
              "        const docLinkHtml = 'Like what you see? Visit the ' +\n",
              "          '<a target=\"_blank\" href=https://colab.research.google.com/notebooks/data_table.ipynb>data table notebook</a>'\n",
              "          + ' to learn more about interactive tables.';\n",
              "        element.innerHTML = '';\n",
              "        dataTable['output_type'] = 'display_data';\n",
              "        await google.colab.output.renderOutput(dataTable, element);\n",
              "        const docLink = document.createElement('div');\n",
              "        docLink.innerHTML = docLinkHtml;\n",
              "        element.appendChild(docLink);\n",
              "      }\n",
              "    </script>\n",
              "  </div>\n",
              "\n",
              "\n",
              "<div id=\"df-0d1d1cbd-cb57-4310-b9e8-3657252bb8a6\">\n",
              "  <button class=\"colab-df-quickchart\" onclick=\"quickchart('df-0d1d1cbd-cb57-4310-b9e8-3657252bb8a6')\"\n",
              "            title=\"Suggest charts\"\n",
              "            style=\"display:none;\">\n",
              "\n",
              "<svg xmlns=\"http://www.w3.org/2000/svg\" height=\"24px\"viewBox=\"0 0 24 24\"\n",
              "     width=\"24px\">\n",
              "    <g>\n",
              "        <path d=\"M19 3H5c-1.1 0-2 .9-2 2v14c0 1.1.9 2 2 2h14c1.1 0 2-.9 2-2V5c0-1.1-.9-2-2-2zM9 17H7v-7h2v7zm4 0h-2V7h2v10zm4 0h-2v-4h2v4z\"/>\n",
              "    </g>\n",
              "</svg>\n",
              "  </button>\n",
              "\n",
              "<style>\n",
              "  .colab-df-quickchart {\n",
              "      --bg-color: #E8F0FE;\n",
              "      --fill-color: #1967D2;\n",
              "      --hover-bg-color: #E2EBFA;\n",
              "      --hover-fill-color: #174EA6;\n",
              "      --disabled-fill-color: #AAA;\n",
              "      --disabled-bg-color: #DDD;\n",
              "  }\n",
              "\n",
              "  [theme=dark] .colab-df-quickchart {\n",
              "      --bg-color: #3B4455;\n",
              "      --fill-color: #D2E3FC;\n",
              "      --hover-bg-color: #434B5C;\n",
              "      --hover-fill-color: #FFFFFF;\n",
              "      --disabled-bg-color: #3B4455;\n",
              "      --disabled-fill-color: #666;\n",
              "  }\n",
              "\n",
              "  .colab-df-quickchart {\n",
              "    background-color: var(--bg-color);\n",
              "    border: none;\n",
              "    border-radius: 50%;\n",
              "    cursor: pointer;\n",
              "    display: none;\n",
              "    fill: var(--fill-color);\n",
              "    height: 32px;\n",
              "    padding: 0;\n",
              "    width: 32px;\n",
              "  }\n",
              "\n",
              "  .colab-df-quickchart:hover {\n",
              "    background-color: var(--hover-bg-color);\n",
              "    box-shadow: 0 1px 2px rgba(60, 64, 67, 0.3), 0 1px 3px 1px rgba(60, 64, 67, 0.15);\n",
              "    fill: var(--button-hover-fill-color);\n",
              "  }\n",
              "\n",
              "  .colab-df-quickchart-complete:disabled,\n",
              "  .colab-df-quickchart-complete:disabled:hover {\n",
              "    background-color: var(--disabled-bg-color);\n",
              "    fill: var(--disabled-fill-color);\n",
              "    box-shadow: none;\n",
              "  }\n",
              "\n",
              "  .colab-df-spinner {\n",
              "    border: 2px solid var(--fill-color);\n",
              "    border-color: transparent;\n",
              "    border-bottom-color: var(--fill-color);\n",
              "    animation:\n",
              "      spin 1s steps(1) infinite;\n",
              "  }\n",
              "\n",
              "  @keyframes spin {\n",
              "    0% {\n",
              "      border-color: transparent;\n",
              "      border-bottom-color: var(--fill-color);\n",
              "      border-left-color: var(--fill-color);\n",
              "    }\n",
              "    20% {\n",
              "      border-color: transparent;\n",
              "      border-left-color: var(--fill-color);\n",
              "      border-top-color: var(--fill-color);\n",
              "    }\n",
              "    30% {\n",
              "      border-color: transparent;\n",
              "      border-left-color: var(--fill-color);\n",
              "      border-top-color: var(--fill-color);\n",
              "      border-right-color: var(--fill-color);\n",
              "    }\n",
              "    40% {\n",
              "      border-color: transparent;\n",
              "      border-right-color: var(--fill-color);\n",
              "      border-top-color: var(--fill-color);\n",
              "    }\n",
              "    60% {\n",
              "      border-color: transparent;\n",
              "      border-right-color: var(--fill-color);\n",
              "    }\n",
              "    80% {\n",
              "      border-color: transparent;\n",
              "      border-right-color: var(--fill-color);\n",
              "      border-bottom-color: var(--fill-color);\n",
              "    }\n",
              "    90% {\n",
              "      border-color: transparent;\n",
              "      border-bottom-color: var(--fill-color);\n",
              "    }\n",
              "  }\n",
              "</style>\n",
              "\n",
              "  <script>\n",
              "    async function quickchart(key) {\n",
              "      const quickchartButtonEl =\n",
              "        document.querySelector('#' + key + ' button');\n",
              "      quickchartButtonEl.disabled = true;  // To prevent multiple clicks.\n",
              "      quickchartButtonEl.classList.add('colab-df-spinner');\n",
              "      try {\n",
              "        const charts = await google.colab.kernel.invokeFunction(\n",
              "            'suggestCharts', [key], {});\n",
              "      } catch (error) {\n",
              "        console.error('Error during call to suggestCharts:', error);\n",
              "      }\n",
              "      quickchartButtonEl.classList.remove('colab-df-spinner');\n",
              "      quickchartButtonEl.classList.add('colab-df-quickchart-complete');\n",
              "    }\n",
              "    (() => {\n",
              "      let quickchartButtonEl =\n",
              "        document.querySelector('#df-0d1d1cbd-cb57-4310-b9e8-3657252bb8a6 button');\n",
              "      quickchartButtonEl.style.display =\n",
              "        google.colab.kernel.accessAllowed ? 'block' : 'none';\n",
              "    })();\n",
              "  </script>\n",
              "</div>\n",
              "\n",
              "    </div>\n",
              "  </div>\n"
            ],
            "text/plain": [
              "   Age Sex ChestPainType  RestingBP  Cholesterol  FastingBS RestingECG  MaxHR  \\\n",
              "0   40   M           ATA        140          289          0     Normal    172   \n",
              "1   49   F           NAP        160          180          0     Normal    156   \n",
              "2   37   M           ATA        130          283          0         ST     98   \n",
              "3   48   F           ASY        138          214          0     Normal    108   \n",
              "4   54   M           NAP        150          195          0     Normal    122   \n",
              "\n",
              "  ExerciseAngina  Oldpeak ST_Slope  HeartDisease  \n",
              "0              N      0.0       Up             0  \n",
              "1              N      1.0     Flat             1  \n",
              "2              N      0.0       Up             0  \n",
              "3              Y      1.5     Flat             1  \n",
              "4              N      0.0       Up             0  "
            ]
          },
          "execution_count": 4,
          "metadata": {},
          "output_type": "execute_result"
        }
      ],
      "source": [
        "df.head()"
      ]
    },
    {
      "cell_type": "code",
      "execution_count": 5,
      "metadata": {
        "colab": {
          "base_uri": "https://localhost:8080/",
          "height": 206
        },
        "id": "Jw_I7qCIz1mS",
        "outputId": "b483ca75-11be-45f9-c5ff-88ff97302072"
      },
      "outputs": [
        {
          "data": {
            "application/vnd.google.colaboratory.intrinsic+json": {
              "summary": "{\n  \"name\": \"df\",\n  \"rows\": 5,\n  \"fields\": [\n    {\n      \"column\": \"Age\",\n      \"properties\": {\n        \"dtype\": \"number\",\n        \"std\": 11,\n        \"min\": 38,\n        \"max\": 68,\n        \"num_unique_values\": 4,\n        \"samples\": [\n          68,\n          38,\n          45\n        ],\n        \"semantic_type\": \"\",\n        \"description\": \"\"\n      }\n    },\n    {\n      \"column\": \"Sex\",\n      \"properties\": {\n        \"dtype\": \"category\",\n        \"num_unique_values\": 2,\n        \"samples\": [\n          \"F\",\n          \"M\"\n        ],\n        \"semantic_type\": \"\",\n        \"description\": \"\"\n      }\n    },\n    {\n      \"column\": \"ChestPainType\",\n      \"properties\": {\n        \"dtype\": \"string\",\n        \"num_unique_values\": 4,\n        \"samples\": [\n          \"ASY\",\n          \"NAP\"\n        ],\n        \"semantic_type\": \"\",\n        \"description\": \"\"\n      }\n    },\n    {\n      \"column\": \"RestingBP\",\n      \"properties\": {\n        \"dtype\": \"number\",\n        \"std\": 12,\n        \"min\": 110,\n        \"max\": 144,\n        \"num_unique_values\": 4,\n        \"samples\": [\n          144,\n          138\n        ],\n        \"semantic_type\": \"\",\n        \"description\": \"\"\n      }\n    },\n    {\n      \"column\": \"Cholesterol\",\n      \"properties\": {\n        \"dtype\": \"number\",\n        \"std\": 52,\n        \"min\": 131,\n        \"max\": 264,\n        \"num_unique_values\": 5,\n        \"samples\": [\n          193,\n          175\n        ],\n        \"semantic_type\": \"\",\n        \"description\": \"\"\n      }\n    },\n    {\n      \"column\": \"FastingBS\",\n      \"properties\": {\n        \"dtype\": \"number\",\n        \"std\": 0,\n        \"min\": 0,\n        \"max\": 1,\n        \"num_unique_values\": 2,\n        \"samples\": [\n          1,\n          0\n        ],\n        \"semantic_type\": \"\",\n        \"description\": \"\"\n      }\n    },\n    {\n      \"column\": \"RestingECG\",\n      \"properties\": {\n        \"dtype\": \"category\",\n        \"num_unique_values\": 2,\n        \"samples\": [\n          \"LVH\",\n          \"Normal\"\n        ],\n        \"semantic_type\": \"\",\n        \"description\": \"\"\n      }\n    },\n    {\n      \"column\": \"MaxHR\",\n      \"properties\": {\n        \"dtype\": \"number\",\n        \"std\": 25,\n        \"min\": 115,\n        \"max\": 174,\n        \"num_unique_values\": 5,\n        \"samples\": [\n          141,\n          173\n        ],\n        \"semantic_type\": \"\",\n        \"description\": \"\"\n      }\n    },\n    {\n      \"column\": \"ExerciseAngina\",\n      \"properties\": {\n        \"dtype\": \"category\",\n        \"num_unique_values\": 2,\n        \"samples\": [\n          \"Y\",\n          \"N\"\n        ],\n        \"semantic_type\": \"\",\n        \"description\": \"\"\n      }\n    },\n    {\n      \"column\": \"Oldpeak\",\n      \"properties\": {\n        \"dtype\": \"number\",\n        \"std\": 1.3885243966167826,\n        \"min\": 0.0,\n        \"max\": 3.4,\n        \"num_unique_values\": 3,\n        \"samples\": [\n          1.2,\n          3.4\n        ],\n        \"semantic_type\": \"\",\n        \"description\": \"\"\n      }\n    },\n    {\n      \"column\": \"ST_Slope\",\n      \"properties\": {\n        \"dtype\": \"category\",\n        \"num_unique_values\": 2,\n        \"samples\": [\n          \"Up\",\n          \"Flat\"\n        ],\n        \"semantic_type\": \"\",\n        \"description\": \"\"\n      }\n    },\n    {\n      \"column\": \"HeartDisease\",\n      \"properties\": {\n        \"dtype\": \"number\",\n        \"std\": 0,\n        \"min\": 0,\n        \"max\": 1,\n        \"num_unique_values\": 2,\n        \"samples\": [\n          0,\n          1\n        ],\n        \"semantic_type\": \"\",\n        \"description\": \"\"\n      }\n    }\n  ]\n}",
              "type": "dataframe"
            },
            "text/html": [
              "\n",
              "  <div id=\"df-2ac7b758-1886-4245-871b-f40ff451a878\" class=\"colab-df-container\">\n",
              "    <div>\n",
              "<style scoped>\n",
              "    .dataframe tbody tr th:only-of-type {\n",
              "        vertical-align: middle;\n",
              "    }\n",
              "\n",
              "    .dataframe tbody tr th {\n",
              "        vertical-align: top;\n",
              "    }\n",
              "\n",
              "    .dataframe thead th {\n",
              "        text-align: right;\n",
              "    }\n",
              "</style>\n",
              "<table border=\"1\" class=\"dataframe\">\n",
              "  <thead>\n",
              "    <tr style=\"text-align: right;\">\n",
              "      <th></th>\n",
              "      <th>Age</th>\n",
              "      <th>Sex</th>\n",
              "      <th>ChestPainType</th>\n",
              "      <th>RestingBP</th>\n",
              "      <th>Cholesterol</th>\n",
              "      <th>FastingBS</th>\n",
              "      <th>RestingECG</th>\n",
              "      <th>MaxHR</th>\n",
              "      <th>ExerciseAngina</th>\n",
              "      <th>Oldpeak</th>\n",
              "      <th>ST_Slope</th>\n",
              "      <th>HeartDisease</th>\n",
              "    </tr>\n",
              "  </thead>\n",
              "  <tbody>\n",
              "    <tr>\n",
              "      <th>913</th>\n",
              "      <td>45</td>\n",
              "      <td>M</td>\n",
              "      <td>TA</td>\n",
              "      <td>110</td>\n",
              "      <td>264</td>\n",
              "      <td>0</td>\n",
              "      <td>Normal</td>\n",
              "      <td>132</td>\n",
              "      <td>N</td>\n",
              "      <td>1.2</td>\n",
              "      <td>Flat</td>\n",
              "      <td>1</td>\n",
              "    </tr>\n",
              "    <tr>\n",
              "      <th>914</th>\n",
              "      <td>68</td>\n",
              "      <td>M</td>\n",
              "      <td>ASY</td>\n",
              "      <td>144</td>\n",
              "      <td>193</td>\n",
              "      <td>1</td>\n",
              "      <td>Normal</td>\n",
              "      <td>141</td>\n",
              "      <td>N</td>\n",
              "      <td>3.4</td>\n",
              "      <td>Flat</td>\n",
              "      <td>1</td>\n",
              "    </tr>\n",
              "    <tr>\n",
              "      <th>915</th>\n",
              "      <td>57</td>\n",
              "      <td>M</td>\n",
              "      <td>ASY</td>\n",
              "      <td>130</td>\n",
              "      <td>131</td>\n",
              "      <td>0</td>\n",
              "      <td>Normal</td>\n",
              "      <td>115</td>\n",
              "      <td>Y</td>\n",
              "      <td>1.2</td>\n",
              "      <td>Flat</td>\n",
              "      <td>1</td>\n",
              "    </tr>\n",
              "    <tr>\n",
              "      <th>916</th>\n",
              "      <td>57</td>\n",
              "      <td>F</td>\n",
              "      <td>ATA</td>\n",
              "      <td>130</td>\n",
              "      <td>236</td>\n",
              "      <td>0</td>\n",
              "      <td>LVH</td>\n",
              "      <td>174</td>\n",
              "      <td>N</td>\n",
              "      <td>0.0</td>\n",
              "      <td>Flat</td>\n",
              "      <td>1</td>\n",
              "    </tr>\n",
              "    <tr>\n",
              "      <th>917</th>\n",
              "      <td>38</td>\n",
              "      <td>M</td>\n",
              "      <td>NAP</td>\n",
              "      <td>138</td>\n",
              "      <td>175</td>\n",
              "      <td>0</td>\n",
              "      <td>Normal</td>\n",
              "      <td>173</td>\n",
              "      <td>N</td>\n",
              "      <td>0.0</td>\n",
              "      <td>Up</td>\n",
              "      <td>0</td>\n",
              "    </tr>\n",
              "  </tbody>\n",
              "</table>\n",
              "</div>\n",
              "    <div class=\"colab-df-buttons\">\n",
              "\n",
              "  <div class=\"colab-df-container\">\n",
              "    <button class=\"colab-df-convert\" onclick=\"convertToInteractive('df-2ac7b758-1886-4245-871b-f40ff451a878')\"\n",
              "            title=\"Convert this dataframe to an interactive table.\"\n",
              "            style=\"display:none;\">\n",
              "\n",
              "  <svg xmlns=\"http://www.w3.org/2000/svg\" height=\"24px\" viewBox=\"0 -960 960 960\">\n",
              "    <path d=\"M120-120v-720h720v720H120Zm60-500h600v-160H180v160Zm220 220h160v-160H400v160Zm0 220h160v-160H400v160ZM180-400h160v-160H180v160Zm440 0h160v-160H620v160ZM180-180h160v-160H180v160Zm440 0h160v-160H620v160Z\"/>\n",
              "  </svg>\n",
              "    </button>\n",
              "\n",
              "  <style>\n",
              "    .colab-df-container {\n",
              "      display:flex;\n",
              "      gap: 12px;\n",
              "    }\n",
              "\n",
              "    .colab-df-convert {\n",
              "      background-color: #E8F0FE;\n",
              "      border: none;\n",
              "      border-radius: 50%;\n",
              "      cursor: pointer;\n",
              "      display: none;\n",
              "      fill: #1967D2;\n",
              "      height: 32px;\n",
              "      padding: 0 0 0 0;\n",
              "      width: 32px;\n",
              "    }\n",
              "\n",
              "    .colab-df-convert:hover {\n",
              "      background-color: #E2EBFA;\n",
              "      box-shadow: 0px 1px 2px rgba(60, 64, 67, 0.3), 0px 1px 3px 1px rgba(60, 64, 67, 0.15);\n",
              "      fill: #174EA6;\n",
              "    }\n",
              "\n",
              "    .colab-df-buttons div {\n",
              "      margin-bottom: 4px;\n",
              "    }\n",
              "\n",
              "    [theme=dark] .colab-df-convert {\n",
              "      background-color: #3B4455;\n",
              "      fill: #D2E3FC;\n",
              "    }\n",
              "\n",
              "    [theme=dark] .colab-df-convert:hover {\n",
              "      background-color: #434B5C;\n",
              "      box-shadow: 0px 1px 3px 1px rgba(0, 0, 0, 0.15);\n",
              "      filter: drop-shadow(0px 1px 2px rgba(0, 0, 0, 0.3));\n",
              "      fill: #FFFFFF;\n",
              "    }\n",
              "  </style>\n",
              "\n",
              "    <script>\n",
              "      const buttonEl =\n",
              "        document.querySelector('#df-2ac7b758-1886-4245-871b-f40ff451a878 button.colab-df-convert');\n",
              "      buttonEl.style.display =\n",
              "        google.colab.kernel.accessAllowed ? 'block' : 'none';\n",
              "\n",
              "      async function convertToInteractive(key) {\n",
              "        const element = document.querySelector('#df-2ac7b758-1886-4245-871b-f40ff451a878');\n",
              "        const dataTable =\n",
              "          await google.colab.kernel.invokeFunction('convertToInteractive',\n",
              "                                                    [key], {});\n",
              "        if (!dataTable) return;\n",
              "\n",
              "        const docLinkHtml = 'Like what you see? Visit the ' +\n",
              "          '<a target=\"_blank\" href=https://colab.research.google.com/notebooks/data_table.ipynb>data table notebook</a>'\n",
              "          + ' to learn more about interactive tables.';\n",
              "        element.innerHTML = '';\n",
              "        dataTable['output_type'] = 'display_data';\n",
              "        await google.colab.output.renderOutput(dataTable, element);\n",
              "        const docLink = document.createElement('div');\n",
              "        docLink.innerHTML = docLinkHtml;\n",
              "        element.appendChild(docLink);\n",
              "      }\n",
              "    </script>\n",
              "  </div>\n",
              "\n",
              "\n",
              "<div id=\"df-9e9e7d9c-0027-49db-ada0-33acbc5d078e\">\n",
              "  <button class=\"colab-df-quickchart\" onclick=\"quickchart('df-9e9e7d9c-0027-49db-ada0-33acbc5d078e')\"\n",
              "            title=\"Suggest charts\"\n",
              "            style=\"display:none;\">\n",
              "\n",
              "<svg xmlns=\"http://www.w3.org/2000/svg\" height=\"24px\"viewBox=\"0 0 24 24\"\n",
              "     width=\"24px\">\n",
              "    <g>\n",
              "        <path d=\"M19 3H5c-1.1 0-2 .9-2 2v14c0 1.1.9 2 2 2h14c1.1 0 2-.9 2-2V5c0-1.1-.9-2-2-2zM9 17H7v-7h2v7zm4 0h-2V7h2v10zm4 0h-2v-4h2v4z\"/>\n",
              "    </g>\n",
              "</svg>\n",
              "  </button>\n",
              "\n",
              "<style>\n",
              "  .colab-df-quickchart {\n",
              "      --bg-color: #E8F0FE;\n",
              "      --fill-color: #1967D2;\n",
              "      --hover-bg-color: #E2EBFA;\n",
              "      --hover-fill-color: #174EA6;\n",
              "      --disabled-fill-color: #AAA;\n",
              "      --disabled-bg-color: #DDD;\n",
              "  }\n",
              "\n",
              "  [theme=dark] .colab-df-quickchart {\n",
              "      --bg-color: #3B4455;\n",
              "      --fill-color: #D2E3FC;\n",
              "      --hover-bg-color: #434B5C;\n",
              "      --hover-fill-color: #FFFFFF;\n",
              "      --disabled-bg-color: #3B4455;\n",
              "      --disabled-fill-color: #666;\n",
              "  }\n",
              "\n",
              "  .colab-df-quickchart {\n",
              "    background-color: var(--bg-color);\n",
              "    border: none;\n",
              "    border-radius: 50%;\n",
              "    cursor: pointer;\n",
              "    display: none;\n",
              "    fill: var(--fill-color);\n",
              "    height: 32px;\n",
              "    padding: 0;\n",
              "    width: 32px;\n",
              "  }\n",
              "\n",
              "  .colab-df-quickchart:hover {\n",
              "    background-color: var(--hover-bg-color);\n",
              "    box-shadow: 0 1px 2px rgba(60, 64, 67, 0.3), 0 1px 3px 1px rgba(60, 64, 67, 0.15);\n",
              "    fill: var(--button-hover-fill-color);\n",
              "  }\n",
              "\n",
              "  .colab-df-quickchart-complete:disabled,\n",
              "  .colab-df-quickchart-complete:disabled:hover {\n",
              "    background-color: var(--disabled-bg-color);\n",
              "    fill: var(--disabled-fill-color);\n",
              "    box-shadow: none;\n",
              "  }\n",
              "\n",
              "  .colab-df-spinner {\n",
              "    border: 2px solid var(--fill-color);\n",
              "    border-color: transparent;\n",
              "    border-bottom-color: var(--fill-color);\n",
              "    animation:\n",
              "      spin 1s steps(1) infinite;\n",
              "  }\n",
              "\n",
              "  @keyframes spin {\n",
              "    0% {\n",
              "      border-color: transparent;\n",
              "      border-bottom-color: var(--fill-color);\n",
              "      border-left-color: var(--fill-color);\n",
              "    }\n",
              "    20% {\n",
              "      border-color: transparent;\n",
              "      border-left-color: var(--fill-color);\n",
              "      border-top-color: var(--fill-color);\n",
              "    }\n",
              "    30% {\n",
              "      border-color: transparent;\n",
              "      border-left-color: var(--fill-color);\n",
              "      border-top-color: var(--fill-color);\n",
              "      border-right-color: var(--fill-color);\n",
              "    }\n",
              "    40% {\n",
              "      border-color: transparent;\n",
              "      border-right-color: var(--fill-color);\n",
              "      border-top-color: var(--fill-color);\n",
              "    }\n",
              "    60% {\n",
              "      border-color: transparent;\n",
              "      border-right-color: var(--fill-color);\n",
              "    }\n",
              "    80% {\n",
              "      border-color: transparent;\n",
              "      border-right-color: var(--fill-color);\n",
              "      border-bottom-color: var(--fill-color);\n",
              "    }\n",
              "    90% {\n",
              "      border-color: transparent;\n",
              "      border-bottom-color: var(--fill-color);\n",
              "    }\n",
              "  }\n",
              "</style>\n",
              "\n",
              "  <script>\n",
              "    async function quickchart(key) {\n",
              "      const quickchartButtonEl =\n",
              "        document.querySelector('#' + key + ' button');\n",
              "      quickchartButtonEl.disabled = true;  // To prevent multiple clicks.\n",
              "      quickchartButtonEl.classList.add('colab-df-spinner');\n",
              "      try {\n",
              "        const charts = await google.colab.kernel.invokeFunction(\n",
              "            'suggestCharts', [key], {});\n",
              "      } catch (error) {\n",
              "        console.error('Error during call to suggestCharts:', error);\n",
              "      }\n",
              "      quickchartButtonEl.classList.remove('colab-df-spinner');\n",
              "      quickchartButtonEl.classList.add('colab-df-quickchart-complete');\n",
              "    }\n",
              "    (() => {\n",
              "      let quickchartButtonEl =\n",
              "        document.querySelector('#df-9e9e7d9c-0027-49db-ada0-33acbc5d078e button');\n",
              "      quickchartButtonEl.style.display =\n",
              "        google.colab.kernel.accessAllowed ? 'block' : 'none';\n",
              "    })();\n",
              "  </script>\n",
              "</div>\n",
              "\n",
              "    </div>\n",
              "  </div>\n"
            ],
            "text/plain": [
              "     Age Sex ChestPainType  RestingBP  Cholesterol  FastingBS RestingECG  \\\n",
              "913   45   M            TA        110          264          0     Normal   \n",
              "914   68   M           ASY        144          193          1     Normal   \n",
              "915   57   M           ASY        130          131          0     Normal   \n",
              "916   57   F           ATA        130          236          0        LVH   \n",
              "917   38   M           NAP        138          175          0     Normal   \n",
              "\n",
              "     MaxHR ExerciseAngina  Oldpeak ST_Slope  HeartDisease  \n",
              "913    132              N      1.2     Flat             1  \n",
              "914    141              N      3.4     Flat             1  \n",
              "915    115              Y      1.2     Flat             1  \n",
              "916    174              N      0.0     Flat             1  \n",
              "917    173              N      0.0       Up             0  "
            ]
          },
          "execution_count": 5,
          "metadata": {},
          "output_type": "execute_result"
        }
      ],
      "source": [
        "df.tail()"
      ]
    },
    {
      "cell_type": "code",
      "execution_count": 6,
      "metadata": {
        "colab": {
          "base_uri": "https://localhost:8080/",
          "height": 460
        },
        "id": "3KKwUBfJz5jD",
        "outputId": "2a79733c-939c-429b-cc58-85d0fd29233e"
      },
      "outputs": [
        {
          "data": {
            "text/html": [
              "<div>\n",
              "<style scoped>\n",
              "    .dataframe tbody tr th:only-of-type {\n",
              "        vertical-align: middle;\n",
              "    }\n",
              "\n",
              "    .dataframe tbody tr th {\n",
              "        vertical-align: top;\n",
              "    }\n",
              "\n",
              "    .dataframe thead th {\n",
              "        text-align: right;\n",
              "    }\n",
              "</style>\n",
              "<table border=\"1\" class=\"dataframe\">\n",
              "  <thead>\n",
              "    <tr style=\"text-align: right;\">\n",
              "      <th></th>\n",
              "      <th>0</th>\n",
              "    </tr>\n",
              "  </thead>\n",
              "  <tbody>\n",
              "    <tr>\n",
              "      <th>Age</th>\n",
              "      <td>50</td>\n",
              "    </tr>\n",
              "    <tr>\n",
              "      <th>Sex</th>\n",
              "      <td>2</td>\n",
              "    </tr>\n",
              "    <tr>\n",
              "      <th>ChestPainType</th>\n",
              "      <td>4</td>\n",
              "    </tr>\n",
              "    <tr>\n",
              "      <th>RestingBP</th>\n",
              "      <td>67</td>\n",
              "    </tr>\n",
              "    <tr>\n",
              "      <th>Cholesterol</th>\n",
              "      <td>222</td>\n",
              "    </tr>\n",
              "    <tr>\n",
              "      <th>FastingBS</th>\n",
              "      <td>2</td>\n",
              "    </tr>\n",
              "    <tr>\n",
              "      <th>RestingECG</th>\n",
              "      <td>3</td>\n",
              "    </tr>\n",
              "    <tr>\n",
              "      <th>MaxHR</th>\n",
              "      <td>119</td>\n",
              "    </tr>\n",
              "    <tr>\n",
              "      <th>ExerciseAngina</th>\n",
              "      <td>2</td>\n",
              "    </tr>\n",
              "    <tr>\n",
              "      <th>Oldpeak</th>\n",
              "      <td>53</td>\n",
              "    </tr>\n",
              "    <tr>\n",
              "      <th>ST_Slope</th>\n",
              "      <td>3</td>\n",
              "    </tr>\n",
              "    <tr>\n",
              "      <th>HeartDisease</th>\n",
              "      <td>2</td>\n",
              "    </tr>\n",
              "  </tbody>\n",
              "</table>\n",
              "</div><br><label><b>dtype:</b> int64</label>"
            ],
            "text/plain": [
              "Age                50\n",
              "Sex                 2\n",
              "ChestPainType       4\n",
              "RestingBP          67\n",
              "Cholesterol       222\n",
              "FastingBS           2\n",
              "RestingECG          3\n",
              "MaxHR             119\n",
              "ExerciseAngina      2\n",
              "Oldpeak            53\n",
              "ST_Slope            3\n",
              "HeartDisease        2\n",
              "dtype: int64"
            ]
          },
          "execution_count": 6,
          "metadata": {},
          "output_type": "execute_result"
        }
      ],
      "source": [
        "df.nunique()"
      ]
    },
    {
      "cell_type": "code",
      "execution_count": 7,
      "metadata": {
        "colab": {
          "base_uri": "https://localhost:8080/",
          "height": 460
        },
        "id": "sNi3ApMQz9cq",
        "outputId": "d89c15ef-b31b-494c-f594-f74d37e8de91"
      },
      "outputs": [
        {
          "data": {
            "text/html": [
              "<div>\n",
              "<style scoped>\n",
              "    .dataframe tbody tr th:only-of-type {\n",
              "        vertical-align: middle;\n",
              "    }\n",
              "\n",
              "    .dataframe tbody tr th {\n",
              "        vertical-align: top;\n",
              "    }\n",
              "\n",
              "    .dataframe thead th {\n",
              "        text-align: right;\n",
              "    }\n",
              "</style>\n",
              "<table border=\"1\" class=\"dataframe\">\n",
              "  <thead>\n",
              "    <tr style=\"text-align: right;\">\n",
              "      <th></th>\n",
              "      <th>0</th>\n",
              "    </tr>\n",
              "  </thead>\n",
              "  <tbody>\n",
              "    <tr>\n",
              "      <th>Age</th>\n",
              "      <td>0</td>\n",
              "    </tr>\n",
              "    <tr>\n",
              "      <th>Sex</th>\n",
              "      <td>0</td>\n",
              "    </tr>\n",
              "    <tr>\n",
              "      <th>ChestPainType</th>\n",
              "      <td>0</td>\n",
              "    </tr>\n",
              "    <tr>\n",
              "      <th>RestingBP</th>\n",
              "      <td>0</td>\n",
              "    </tr>\n",
              "    <tr>\n",
              "      <th>Cholesterol</th>\n",
              "      <td>0</td>\n",
              "    </tr>\n",
              "    <tr>\n",
              "      <th>FastingBS</th>\n",
              "      <td>0</td>\n",
              "    </tr>\n",
              "    <tr>\n",
              "      <th>RestingECG</th>\n",
              "      <td>0</td>\n",
              "    </tr>\n",
              "    <tr>\n",
              "      <th>MaxHR</th>\n",
              "      <td>0</td>\n",
              "    </tr>\n",
              "    <tr>\n",
              "      <th>ExerciseAngina</th>\n",
              "      <td>0</td>\n",
              "    </tr>\n",
              "    <tr>\n",
              "      <th>Oldpeak</th>\n",
              "      <td>0</td>\n",
              "    </tr>\n",
              "    <tr>\n",
              "      <th>ST_Slope</th>\n",
              "      <td>0</td>\n",
              "    </tr>\n",
              "    <tr>\n",
              "      <th>HeartDisease</th>\n",
              "      <td>0</td>\n",
              "    </tr>\n",
              "  </tbody>\n",
              "</table>\n",
              "</div><br><label><b>dtype:</b> int64</label>"
            ],
            "text/plain": [
              "Age               0\n",
              "Sex               0\n",
              "ChestPainType     0\n",
              "RestingBP         0\n",
              "Cholesterol       0\n",
              "FastingBS         0\n",
              "RestingECG        0\n",
              "MaxHR             0\n",
              "ExerciseAngina    0\n",
              "Oldpeak           0\n",
              "ST_Slope          0\n",
              "HeartDisease      0\n",
              "dtype: int64"
            ]
          },
          "execution_count": 7,
          "metadata": {},
          "output_type": "execute_result"
        }
      ],
      "source": [
        "df.isnull().sum()"
      ]
    },
    {
      "cell_type": "code",
      "execution_count": 8,
      "metadata": {
        "colab": {
          "base_uri": "https://localhost:8080/"
        },
        "id": "FQJwI1z80API",
        "outputId": "905d49a3-4594-44f7-bd24-d5972d833d67"
      },
      "outputs": [
        {
          "data": {
            "text/plain": [
              "0"
            ]
          },
          "execution_count": 8,
          "metadata": {},
          "output_type": "execute_result"
        }
      ],
      "source": [
        "df.duplicated().sum()"
      ]
    },
    {
      "cell_type": "code",
      "execution_count": 9,
      "metadata": {
        "colab": {
          "base_uri": "https://localhost:8080/",
          "height": 300
        },
        "id": "NGULDamq0pK0",
        "outputId": "1e0424ae-3194-45d0-8697-414c5bf642e6"
      },
      "outputs": [
        {
          "data": {
            "application/vnd.google.colaboratory.intrinsic+json": {
              "summary": "{\n  \"name\": \"df\",\n  \"rows\": 8,\n  \"fields\": [\n    {\n      \"column\": \"Age\",\n      \"properties\": {\n        \"dtype\": \"number\",\n        \"std\": 308.627347039806,\n        \"min\": 9.432616506732007,\n        \"max\": 918.0,\n        \"num_unique_values\": 8,\n        \"samples\": [\n          53.510893246187365,\n          54.0,\n          918.0\n        ],\n        \"semantic_type\": \"\",\n        \"description\": \"\"\n      }\n    },\n    {\n      \"column\": \"RestingBP\",\n      \"properties\": {\n        \"dtype\": \"number\",\n        \"std\": 294.5935541913639,\n        \"min\": 0.0,\n        \"max\": 918.0,\n        \"num_unique_values\": 8,\n        \"samples\": [\n          132.39651416122004,\n          130.0,\n          918.0\n        ],\n        \"semantic_type\": \"\",\n        \"description\": \"\"\n      }\n    },\n    {\n      \"column\": \"Cholesterol\",\n      \"properties\": {\n        \"dtype\": \"number\",\n        \"std\": 300.55294190735805,\n        \"min\": 0.0,\n        \"max\": 918.0,\n        \"num_unique_values\": 8,\n        \"samples\": [\n          198.7995642701525,\n          223.0,\n          918.0\n        ],\n        \"semantic_type\": \"\",\n        \"description\": \"\"\n      }\n    },\n    {\n      \"column\": \"FastingBS\",\n      \"properties\": {\n        \"dtype\": \"number\",\n        \"std\": 324.4785490336432,\n        \"min\": 0.0,\n        \"max\": 918.0,\n        \"num_unique_values\": 5,\n        \"samples\": [\n          0.23311546840958605,\n          1.0,\n          0.423045624739302\n        ],\n        \"semantic_type\": \"\",\n        \"description\": \"\"\n      }\n    },\n    {\n      \"column\": \"MaxHR\",\n      \"properties\": {\n        \"dtype\": \"number\",\n        \"std\": 287.52953225319146,\n        \"min\": 25.460334138250293,\n        \"max\": 918.0,\n        \"num_unique_values\": 8,\n        \"samples\": [\n          136.80936819172112,\n          138.0,\n          918.0\n        ],\n        \"semantic_type\": \"\",\n        \"description\": \"\"\n      }\n    },\n    {\n      \"column\": \"Oldpeak\",\n      \"properties\": {\n        \"dtype\": \"number\",\n        \"std\": 324.18454495166225,\n        \"min\": -2.6,\n        \"max\": 918.0,\n        \"num_unique_values\": 8,\n        \"samples\": [\n          0.8873638344226579,\n          0.6,\n          918.0\n        ],\n        \"semantic_type\": \"\",\n        \"description\": \"\"\n      }\n    },\n    {\n      \"column\": \"HeartDisease\",\n      \"properties\": {\n        \"dtype\": \"number\",\n        \"std\": 324.35768309524013,\n        \"min\": 0.0,\n        \"max\": 918.0,\n        \"num_unique_values\": 5,\n        \"samples\": [\n          0.5533769063180828,\n          1.0,\n          0.4974137382845986\n        ],\n        \"semantic_type\": \"\",\n        \"description\": \"\"\n      }\n    }\n  ]\n}",
              "type": "dataframe"
            },
            "text/html": [
              "\n",
              "  <div id=\"df-879ad4c3-7ffc-4d95-8f74-04b0ad08cc0d\" class=\"colab-df-container\">\n",
              "    <div>\n",
              "<style scoped>\n",
              "    .dataframe tbody tr th:only-of-type {\n",
              "        vertical-align: middle;\n",
              "    }\n",
              "\n",
              "    .dataframe tbody tr th {\n",
              "        vertical-align: top;\n",
              "    }\n",
              "\n",
              "    .dataframe thead th {\n",
              "        text-align: right;\n",
              "    }\n",
              "</style>\n",
              "<table border=\"1\" class=\"dataframe\">\n",
              "  <thead>\n",
              "    <tr style=\"text-align: right;\">\n",
              "      <th></th>\n",
              "      <th>Age</th>\n",
              "      <th>RestingBP</th>\n",
              "      <th>Cholesterol</th>\n",
              "      <th>FastingBS</th>\n",
              "      <th>MaxHR</th>\n",
              "      <th>Oldpeak</th>\n",
              "      <th>HeartDisease</th>\n",
              "    </tr>\n",
              "  </thead>\n",
              "  <tbody>\n",
              "    <tr>\n",
              "      <th>count</th>\n",
              "      <td>918.000000</td>\n",
              "      <td>918.000000</td>\n",
              "      <td>918.000000</td>\n",
              "      <td>918.000000</td>\n",
              "      <td>918.000000</td>\n",
              "      <td>918.000000</td>\n",
              "      <td>918.000000</td>\n",
              "    </tr>\n",
              "    <tr>\n",
              "      <th>mean</th>\n",
              "      <td>53.510893</td>\n",
              "      <td>132.396514</td>\n",
              "      <td>198.799564</td>\n",
              "      <td>0.233115</td>\n",
              "      <td>136.809368</td>\n",
              "      <td>0.887364</td>\n",
              "      <td>0.553377</td>\n",
              "    </tr>\n",
              "    <tr>\n",
              "      <th>std</th>\n",
              "      <td>9.432617</td>\n",
              "      <td>18.514154</td>\n",
              "      <td>109.384145</td>\n",
              "      <td>0.423046</td>\n",
              "      <td>25.460334</td>\n",
              "      <td>1.066570</td>\n",
              "      <td>0.497414</td>\n",
              "    </tr>\n",
              "    <tr>\n",
              "      <th>min</th>\n",
              "      <td>28.000000</td>\n",
              "      <td>0.000000</td>\n",
              "      <td>0.000000</td>\n",
              "      <td>0.000000</td>\n",
              "      <td>60.000000</td>\n",
              "      <td>-2.600000</td>\n",
              "      <td>0.000000</td>\n",
              "    </tr>\n",
              "    <tr>\n",
              "      <th>25%</th>\n",
              "      <td>47.000000</td>\n",
              "      <td>120.000000</td>\n",
              "      <td>173.250000</td>\n",
              "      <td>0.000000</td>\n",
              "      <td>120.000000</td>\n",
              "      <td>0.000000</td>\n",
              "      <td>0.000000</td>\n",
              "    </tr>\n",
              "    <tr>\n",
              "      <th>50%</th>\n",
              "      <td>54.000000</td>\n",
              "      <td>130.000000</td>\n",
              "      <td>223.000000</td>\n",
              "      <td>0.000000</td>\n",
              "      <td>138.000000</td>\n",
              "      <td>0.600000</td>\n",
              "      <td>1.000000</td>\n",
              "    </tr>\n",
              "    <tr>\n",
              "      <th>75%</th>\n",
              "      <td>60.000000</td>\n",
              "      <td>140.000000</td>\n",
              "      <td>267.000000</td>\n",
              "      <td>0.000000</td>\n",
              "      <td>156.000000</td>\n",
              "      <td>1.500000</td>\n",
              "      <td>1.000000</td>\n",
              "    </tr>\n",
              "    <tr>\n",
              "      <th>max</th>\n",
              "      <td>77.000000</td>\n",
              "      <td>200.000000</td>\n",
              "      <td>603.000000</td>\n",
              "      <td>1.000000</td>\n",
              "      <td>202.000000</td>\n",
              "      <td>6.200000</td>\n",
              "      <td>1.000000</td>\n",
              "    </tr>\n",
              "  </tbody>\n",
              "</table>\n",
              "</div>\n",
              "    <div class=\"colab-df-buttons\">\n",
              "\n",
              "  <div class=\"colab-df-container\">\n",
              "    <button class=\"colab-df-convert\" onclick=\"convertToInteractive('df-879ad4c3-7ffc-4d95-8f74-04b0ad08cc0d')\"\n",
              "            title=\"Convert this dataframe to an interactive table.\"\n",
              "            style=\"display:none;\">\n",
              "\n",
              "  <svg xmlns=\"http://www.w3.org/2000/svg\" height=\"24px\" viewBox=\"0 -960 960 960\">\n",
              "    <path d=\"M120-120v-720h720v720H120Zm60-500h600v-160H180v160Zm220 220h160v-160H400v160Zm0 220h160v-160H400v160ZM180-400h160v-160H180v160Zm440 0h160v-160H620v160ZM180-180h160v-160H180v160Zm440 0h160v-160H620v160Z\"/>\n",
              "  </svg>\n",
              "    </button>\n",
              "\n",
              "  <style>\n",
              "    .colab-df-container {\n",
              "      display:flex;\n",
              "      gap: 12px;\n",
              "    }\n",
              "\n",
              "    .colab-df-convert {\n",
              "      background-color: #E8F0FE;\n",
              "      border: none;\n",
              "      border-radius: 50%;\n",
              "      cursor: pointer;\n",
              "      display: none;\n",
              "      fill: #1967D2;\n",
              "      height: 32px;\n",
              "      padding: 0 0 0 0;\n",
              "      width: 32px;\n",
              "    }\n",
              "\n",
              "    .colab-df-convert:hover {\n",
              "      background-color: #E2EBFA;\n",
              "      box-shadow: 0px 1px 2px rgba(60, 64, 67, 0.3), 0px 1px 3px 1px rgba(60, 64, 67, 0.15);\n",
              "      fill: #174EA6;\n",
              "    }\n",
              "\n",
              "    .colab-df-buttons div {\n",
              "      margin-bottom: 4px;\n",
              "    }\n",
              "\n",
              "    [theme=dark] .colab-df-convert {\n",
              "      background-color: #3B4455;\n",
              "      fill: #D2E3FC;\n",
              "    }\n",
              "\n",
              "    [theme=dark] .colab-df-convert:hover {\n",
              "      background-color: #434B5C;\n",
              "      box-shadow: 0px 1px 3px 1px rgba(0, 0, 0, 0.15);\n",
              "      filter: drop-shadow(0px 1px 2px rgba(0, 0, 0, 0.3));\n",
              "      fill: #FFFFFF;\n",
              "    }\n",
              "  </style>\n",
              "\n",
              "    <script>\n",
              "      const buttonEl =\n",
              "        document.querySelector('#df-879ad4c3-7ffc-4d95-8f74-04b0ad08cc0d button.colab-df-convert');\n",
              "      buttonEl.style.display =\n",
              "        google.colab.kernel.accessAllowed ? 'block' : 'none';\n",
              "\n",
              "      async function convertToInteractive(key) {\n",
              "        const element = document.querySelector('#df-879ad4c3-7ffc-4d95-8f74-04b0ad08cc0d');\n",
              "        const dataTable =\n",
              "          await google.colab.kernel.invokeFunction('convertToInteractive',\n",
              "                                                    [key], {});\n",
              "        if (!dataTable) return;\n",
              "\n",
              "        const docLinkHtml = 'Like what you see? Visit the ' +\n",
              "          '<a target=\"_blank\" href=https://colab.research.google.com/notebooks/data_table.ipynb>data table notebook</a>'\n",
              "          + ' to learn more about interactive tables.';\n",
              "        element.innerHTML = '';\n",
              "        dataTable['output_type'] = 'display_data';\n",
              "        await google.colab.output.renderOutput(dataTable, element);\n",
              "        const docLink = document.createElement('div');\n",
              "        docLink.innerHTML = docLinkHtml;\n",
              "        element.appendChild(docLink);\n",
              "      }\n",
              "    </script>\n",
              "  </div>\n",
              "\n",
              "\n",
              "<div id=\"df-41bd1184-76a4-439f-968d-914ff6a631bf\">\n",
              "  <button class=\"colab-df-quickchart\" onclick=\"quickchart('df-41bd1184-76a4-439f-968d-914ff6a631bf')\"\n",
              "            title=\"Suggest charts\"\n",
              "            style=\"display:none;\">\n",
              "\n",
              "<svg xmlns=\"http://www.w3.org/2000/svg\" height=\"24px\"viewBox=\"0 0 24 24\"\n",
              "     width=\"24px\">\n",
              "    <g>\n",
              "        <path d=\"M19 3H5c-1.1 0-2 .9-2 2v14c0 1.1.9 2 2 2h14c1.1 0 2-.9 2-2V5c0-1.1-.9-2-2-2zM9 17H7v-7h2v7zm4 0h-2V7h2v10zm4 0h-2v-4h2v4z\"/>\n",
              "    </g>\n",
              "</svg>\n",
              "  </button>\n",
              "\n",
              "<style>\n",
              "  .colab-df-quickchart {\n",
              "      --bg-color: #E8F0FE;\n",
              "      --fill-color: #1967D2;\n",
              "      --hover-bg-color: #E2EBFA;\n",
              "      --hover-fill-color: #174EA6;\n",
              "      --disabled-fill-color: #AAA;\n",
              "      --disabled-bg-color: #DDD;\n",
              "  }\n",
              "\n",
              "  [theme=dark] .colab-df-quickchart {\n",
              "      --bg-color: #3B4455;\n",
              "      --fill-color: #D2E3FC;\n",
              "      --hover-bg-color: #434B5C;\n",
              "      --hover-fill-color: #FFFFFF;\n",
              "      --disabled-bg-color: #3B4455;\n",
              "      --disabled-fill-color: #666;\n",
              "  }\n",
              "\n",
              "  .colab-df-quickchart {\n",
              "    background-color: var(--bg-color);\n",
              "    border: none;\n",
              "    border-radius: 50%;\n",
              "    cursor: pointer;\n",
              "    display: none;\n",
              "    fill: var(--fill-color);\n",
              "    height: 32px;\n",
              "    padding: 0;\n",
              "    width: 32px;\n",
              "  }\n",
              "\n",
              "  .colab-df-quickchart:hover {\n",
              "    background-color: var(--hover-bg-color);\n",
              "    box-shadow: 0 1px 2px rgba(60, 64, 67, 0.3), 0 1px 3px 1px rgba(60, 64, 67, 0.15);\n",
              "    fill: var(--button-hover-fill-color);\n",
              "  }\n",
              "\n",
              "  .colab-df-quickchart-complete:disabled,\n",
              "  .colab-df-quickchart-complete:disabled:hover {\n",
              "    background-color: var(--disabled-bg-color);\n",
              "    fill: var(--disabled-fill-color);\n",
              "    box-shadow: none;\n",
              "  }\n",
              "\n",
              "  .colab-df-spinner {\n",
              "    border: 2px solid var(--fill-color);\n",
              "    border-color: transparent;\n",
              "    border-bottom-color: var(--fill-color);\n",
              "    animation:\n",
              "      spin 1s steps(1) infinite;\n",
              "  }\n",
              "\n",
              "  @keyframes spin {\n",
              "    0% {\n",
              "      border-color: transparent;\n",
              "      border-bottom-color: var(--fill-color);\n",
              "      border-left-color: var(--fill-color);\n",
              "    }\n",
              "    20% {\n",
              "      border-color: transparent;\n",
              "      border-left-color: var(--fill-color);\n",
              "      border-top-color: var(--fill-color);\n",
              "    }\n",
              "    30% {\n",
              "      border-color: transparent;\n",
              "      border-left-color: var(--fill-color);\n",
              "      border-top-color: var(--fill-color);\n",
              "      border-right-color: var(--fill-color);\n",
              "    }\n",
              "    40% {\n",
              "      border-color: transparent;\n",
              "      border-right-color: var(--fill-color);\n",
              "      border-top-color: var(--fill-color);\n",
              "    }\n",
              "    60% {\n",
              "      border-color: transparent;\n",
              "      border-right-color: var(--fill-color);\n",
              "    }\n",
              "    80% {\n",
              "      border-color: transparent;\n",
              "      border-right-color: var(--fill-color);\n",
              "      border-bottom-color: var(--fill-color);\n",
              "    }\n",
              "    90% {\n",
              "      border-color: transparent;\n",
              "      border-bottom-color: var(--fill-color);\n",
              "    }\n",
              "  }\n",
              "</style>\n",
              "\n",
              "  <script>\n",
              "    async function quickchart(key) {\n",
              "      const quickchartButtonEl =\n",
              "        document.querySelector('#' + key + ' button');\n",
              "      quickchartButtonEl.disabled = true;  // To prevent multiple clicks.\n",
              "      quickchartButtonEl.classList.add('colab-df-spinner');\n",
              "      try {\n",
              "        const charts = await google.colab.kernel.invokeFunction(\n",
              "            'suggestCharts', [key], {});\n",
              "      } catch (error) {\n",
              "        console.error('Error during call to suggestCharts:', error);\n",
              "      }\n",
              "      quickchartButtonEl.classList.remove('colab-df-spinner');\n",
              "      quickchartButtonEl.classList.add('colab-df-quickchart-complete');\n",
              "    }\n",
              "    (() => {\n",
              "      let quickchartButtonEl =\n",
              "        document.querySelector('#df-41bd1184-76a4-439f-968d-914ff6a631bf button');\n",
              "      quickchartButtonEl.style.display =\n",
              "        google.colab.kernel.accessAllowed ? 'block' : 'none';\n",
              "    })();\n",
              "  </script>\n",
              "</div>\n",
              "\n",
              "    </div>\n",
              "  </div>\n"
            ],
            "text/plain": [
              "              Age   RestingBP  Cholesterol   FastingBS       MaxHR  \\\n",
              "count  918.000000  918.000000   918.000000  918.000000  918.000000   \n",
              "mean    53.510893  132.396514   198.799564    0.233115  136.809368   \n",
              "std      9.432617   18.514154   109.384145    0.423046   25.460334   \n",
              "min     28.000000    0.000000     0.000000    0.000000   60.000000   \n",
              "25%     47.000000  120.000000   173.250000    0.000000  120.000000   \n",
              "50%     54.000000  130.000000   223.000000    0.000000  138.000000   \n",
              "75%     60.000000  140.000000   267.000000    0.000000  156.000000   \n",
              "max     77.000000  200.000000   603.000000    1.000000  202.000000   \n",
              "\n",
              "          Oldpeak  HeartDisease  \n",
              "count  918.000000    918.000000  \n",
              "mean     0.887364      0.553377  \n",
              "std      1.066570      0.497414  \n",
              "min     -2.600000      0.000000  \n",
              "25%      0.000000      0.000000  \n",
              "50%      0.600000      1.000000  \n",
              "75%      1.500000      1.000000  \n",
              "max      6.200000      1.000000  "
            ]
          },
          "execution_count": 9,
          "metadata": {},
          "output_type": "execute_result"
        }
      ],
      "source": [
        "df.describe()"
      ]
    },
    {
      "cell_type": "markdown",
      "metadata": {
        "id": "fml6HEFh8I8v"
      },
      "source": [
        "# Data Visualization\n",
        " **Visualizations for age distribution, gender distribution, chest pain type distribution, max heart rate by heart disease, and target class distribution.**\n",
        "\n",
        "\n"
      ]
    },
    {
      "cell_type": "markdown",
      "metadata": {
        "id": "1SIomJkl8N8r"
      },
      "source": []
    },
    {
      "cell_type": "code",
      "execution_count": 10,
      "metadata": {
        "id": "JsYHlntSU6T6"
      },
      "outputs": [],
      "source": [
        "import matplotlib.pyplot as plt\n",
        "import seaborn as sns"
      ]
    },
    {
      "cell_type": "code",
      "execution_count": 11,
      "metadata": {
        "colab": {
          "base_uri": "https://localhost:8080/",
          "height": 564
        },
        "id": "J6d2aN-WU1II",
        "outputId": "f7193764-aa51-4a6f-fd29-39902a522aa1"
      },
      "outputs": [
        {
          "data": {
            "image/png": "[encoded data removed]",
            "text/plain": [
              "<Figure size 1000x600 with 1 Axes>"
            ]
          },
          "metadata": {},
          "output_type": "display_data"
        }
      ],
      "source": [
        "plt.figure(figsize=(10, 6))\n",
        "plt.hist(df['Age'], bins=30, color='purple', edgecolor='black', alpha=0.7, density=True, label='Histogram')\n",
        "sns.kdeplot(df['Age'], color='yellow', linewidth=2, label='KDE Curve')\n",
        "plt.title('Age Distribution')\n",
        "plt.xlabel('Age')\n",
        "plt.ylabel('Count')\n",
        "plt.grid(axis='y', linestyle='--')\n",
        "plt.legend()\n",
        "plt.show()"
      ]
    },
    {
      "cell_type": "code",
      "execution_count": 12,
      "metadata": {
        "colab": {
          "base_uri": "https://localhost:8080/",
          "height": 758
        },
        "id": "1jNrX3_NVZok",
        "outputId": "16fbc13d-ed6b-4357-8544-21a91ad25845"
      },
      "outputs": [
        {
          "name": "stdout",
          "output_type": "stream",
          "text": [
            "Sex\n",
            "M    725\n",
            "F    193\n",
            "Name: count, dtype: int64\n"
          ]
        },
        {
          "name": "stderr",
          "output_type": "stream",
          "text": [
            "<ipython-input-12-9ba5f03d92a3>:6: FutureWarning: \n",
            "\n",
            "Passing `palette` without assigning `hue` is deprecated and will be removed in v0.14.0. Assign the `x` variable to `hue` and set `legend=False` for the same effect.\n",
            "\n",
            "  sns.countplot(x=df[\"Sex\"], palette=\"coolwarm\")\n"
          ]
        },
        {
          "data": {
            "text/plain": [
              "Text(0.5, 1.0, 'Gender Distribution')"
            ]
          },
          "execution_count": 12,
          "metadata": {},
          "output_type": "execute_result"
        },
        {
          "data": {
            "image/png": "[encoded data removed]",
            "text/plain": [
              "<Figure size 1000x600 with 1 Axes>"
            ]
          },
          "metadata": {},
          "output_type": "display_data"
        }
      ],
      "source": [
        "Gender_counts = df['Sex'].value_counts()\n",
        "print(Gender_counts)\n",
        "\n",
        "\n",
        "plt.figure(figsize=(10, 6))\n",
        "sns.countplot(x=df[\"Sex\"], palette=\"coolwarm\")\n",
        "plt.title(\"Gender Distribution\")"
      ]
    },
    {
      "cell_type": "code",
      "execution_count": 13,
      "metadata": {
        "colab": {
          "base_uri": "https://localhost:8080/",
          "height": 792
        },
        "id": "7hm5AHomV3bD",
        "outputId": "8146eaa2-29bd-4e89-c29d-bc29a522aaa6"
      },
      "outputs": [
        {
          "name": "stdout",
          "output_type": "stream",
          "text": [
            "ChestPainType\n",
            "ASY    496\n",
            "NAP    203\n",
            "ATA    173\n",
            "TA      46\n",
            "Name: count, dtype: int64\n"
          ]
        },
        {
          "name": "stderr",
          "output_type": "stream",
          "text": [
            "<ipython-input-13-0473be119862>:6: FutureWarning: \n",
            "\n",
            "Passing `palette` without assigning `hue` is deprecated and will be removed in v0.14.0. Assign the `y` variable to `hue` and set `legend=False` for the same effect.\n",
            "\n",
            "  sns.countplot(y=df[\"ChestPainType\"], order=df[\"ChestPainType\"].value_counts().index, palette=\"viridis\")\n"
          ]
        },
        {
          "data": {
            "text/plain": [
              "Text(0.5, 1.0, 'Chest Pain Type Distribution')"
            ]
          },
          "execution_count": 13,
          "metadata": {},
          "output_type": "execute_result"
        },
        {
          "data": {
            "image/png": "[encoded data removed]",
            "text/plain": [
              "<Figure size 1000x600 with 1 Axes>"
            ]
          },
          "metadata": {},
          "output_type": "display_data"
        }
      ],
      "source": [
        "Chest_pain_type_counts = df['ChestPainType'].value_counts()\n",
        "print(Chest_pain_type_counts)\n",
        "\n",
        "\n",
        "plt.figure(figsize=(10, 6))\n",
        "sns.countplot(y=df[\"ChestPainType\"], order=df[\"ChestPainType\"].value_counts().index, palette=\"viridis\")\n",
        "plt.title(\"Chest Pain Type Distribution\")"
      ]
    },
    {
      "cell_type": "code",
      "execution_count": 14,
      "metadata": {
        "colab": {
          "base_uri": "https://localhost:8080/",
          "height": 688
        },
        "id": "-BrKtI5SWQS1",
        "outputId": "ff2169a1-3acf-446e-8243-0b2c4f24481b"
      },
      "outputs": [
        {
          "name": "stderr",
          "output_type": "stream",
          "text": [
            "<ipython-input-14-380ac59fd67e>:2: FutureWarning: \n",
            "\n",
            "Passing `palette` without assigning `hue` is deprecated and will be removed in v0.14.0. Assign the `x` variable to `hue` and set `legend=False` for the same effect.\n",
            "\n",
            "  sns.boxplot(x=df[\"HeartDisease\"], y=df[\"MaxHR\"], palette=\"pastel\")\n"
          ]
        },
        {
          "data": {
            "text/plain": [
              "Text(0.5, 1.0, 'Max Heart Rate by Target')"
            ]
          },
          "execution_count": 14,
          "metadata": {},
          "output_type": "execute_result"
        },
        {
          "data": {
            "image/png": "[encoded data removed]",
            "text/plain": [
              "<Figure size 1000x600 with 1 Axes>"
            ]
          },
          "metadata": {},
          "output_type": "display_data"
        }
      ],
      "source": [
        "plt.figure(figsize=(10, 6))\n",
        "sns.boxplot(x=df[\"HeartDisease\"], y=df[\"MaxHR\"], palette=\"pastel\")\n",
        "plt.title(\"Max Heart Rate by Target\")"
      ]
    },
    {
      "cell_type": "code",
      "execution_count": 15,
      "metadata": {
        "colab": {
          "base_uri": "https://localhost:8080/",
          "height": 758
        },
        "id": "9Ah91FlrIJuJ",
        "outputId": "2fdc45ab-e792-4904-e63f-f1ea05099d9e"
      },
      "outputs": [
        {
          "name": "stdout",
          "output_type": "stream",
          "text": [
            "HeartDisease\n",
            "1    508\n",
            "0    410\n",
            "Name: count, dtype: int64\n"
          ]
        },
        {
          "name": "stderr",
          "output_type": "stream",
          "text": [
            "<ipython-input-15-f45c49cbda9d>:6: FutureWarning: \n",
            "\n",
            "Passing `palette` without assigning `hue` is deprecated and will be removed in v0.14.0. Assign the `x` variable to `hue` and set `legend=False` for the same effect.\n",
            "\n",
            "  sns.countplot(x=df[\"HeartDisease\"], palette=\"coolwarm\")\n"
          ]
        },
        {
          "data": {
            "text/plain": [
              "Text(0.5, 1.0, 'Target classes')"
            ]
          },
          "execution_count": 15,
          "metadata": {},
          "output_type": "execute_result"
        },
        {
          "data": {
            "image/png": "[encoded data removed]",
            "text/plain": [
              "<Figure size 1000x600 with 1 Axes>"
            ]
          },
          "metadata": {},
          "output_type": "display_data"
        }
      ],
      "source": [
        "target_count = df['HeartDisease'].value_counts()\n",
        "print(target_count)\n",
        "\n",
        "\n",
        "plt.figure(figsize=(10, 6))\n",
        "sns.countplot(x=df[\"HeartDisease\"], palette=\"coolwarm\")\n",
        "plt.title(\"Target classes\")"
      ]
    },
    {
      "cell_type": "markdown",
      "metadata": {
        "id": "G43OtVID82Vu"
      },
      "source": [
        "***correlation of numeric features with the target variable***"
      ]
    },
    {
      "cell_type": "code",
      "execution_count": 16,
      "metadata": {
        "colab": {
          "base_uri": "https://localhost:8080/",
          "height": 671
        },
        "id": "9uv9ABBRU0DS",
        "outputId": "fb1bacc1-d859-4ae6-e1d8-732d77b2944d"
      },
      "outputs": [
        {
          "name": "stderr",
          "output_type": "stream",
          "text": [
            "<ipython-input-16-109de3bbc706>:13: FutureWarning: \n",
            "\n",
            "Passing `palette` without assigning `hue` is deprecated and will be removed in v0.14.0. Assign the `y` variable to `hue` and set `legend=False` for the same effect.\n",
            "\n",
            "  sns.barplot(x=target_correlation.values, y=target_correlation.index, palette='viridis')\n"
          ]
        },
        {
          "data": {
            "image/png": "[encoded data removed]",
            "text/plain": [
              "<Figure size 800x600 with 1 Axes>"
            ]
          },
          "metadata": {},
          "output_type": "display_data"
        }
      ],
      "source": [
        "numeric_df = df.select_dtypes(include=['float64', 'int64'])\n",
        "\n",
        "\n",
        "correlation_matrix = numeric_df.corr()\n",
        "\n",
        "\n",
        "target_correlation = correlation_matrix['HeartDisease'].drop('HeartDisease')\n",
        "\n",
        "target_correlation = target_correlation.abs().sort_values(ascending=False)\n",
        "\n",
        "\n",
        "plt.figure(figsize=(8, 6))\n",
        "sns.barplot(x=target_correlation.values, y=target_correlation.index, palette='viridis')\n",
        "plt.title('Feature Correlation with Target')\n",
        "plt.xlabel('Absolute Correlation')\n",
        "plt.ylabel('Features')\n",
        "plt.grid(axis='x', linestyle='--', alpha=0.7)\n",
        "plt.show()"
      ]
    },
    {
      "cell_type": "markdown",
      "metadata": {
        "id": "UqWPwXoEqqFS"
      },
      "source": [
        "# numbers of Outliers in each column"
      ]
    },
    {
      "cell_type": "code",
      "execution_count": 17,
      "metadata": {
        "colab": {
          "base_uri": "https://localhost:8080/"
        },
        "id": "01sV1WkIo1tv",
        "outputId": "6b3790ab-ae92-4ddc-eae1-161ed46bc24f"
      },
      "outputs": [
        {
          "name": "stdout",
          "output_type": "stream",
          "text": [
            "{'Age': 0, 'RestingBP': 28, 'Cholesterol': 183, 'FastingBS': 214, 'MaxHR': 2, 'Oldpeak': 16, 'HeartDisease': 0}\n"
          ]
        }
      ],
      "source": [
        "outliers_all_columns = {}\n",
        "for col in df.select_dtypes(include=[np.number]).columns:\n",
        "    Q1 = df[col].quantile(0.25)\n",
        "    Q3 = df[col].quantile(0.75)\n",
        "    IQR = Q3 - Q1\n",
        "    outliers = df[(df[col] < (Q1 - 1.5 * IQR)) | (df[col] > (Q3 + 1.5 * IQR))]\n",
        "    outliers_all_columns[col] = len(outliers)\n",
        "\n",
        "print(outliers_all_columns)\n",
        "\n",
        "\n"
      ]
    },
    {
      "cell_type": "markdown",
      "metadata": {
        "id": "vKDQdYUppNxg"
      },
      "source": [
        "![Screenshot 2025-02-09 195656.png](data:image/png;base64,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)"
      ]
    },
    {
      "cell_type": "code",
      "execution_count": 18,
      "metadata": {
        "id": "2zjtsqf1owWt"
      },
      "outputs": [],
      "source": [
        "df['RestingBP'] = np.where(df['RestingBP'] == 0, df['RestingBP'].median(), df['RestingBP'])\n",
        "\n",
        "\n",
        "df['Cholesterol'] = np.where(df['Cholesterol'] == 0, df['Cholesterol'].median(), df['Cholesterol'])\n",
        "\n",
        "\n",
        "df['MaxHR'] = np.where(df['MaxHR'] < 120, 120, df['MaxHR'])\n",
        "\n",
        "\n",
        "df['Oldpeak'] = np.where(df['Oldpeak'] < 0, 0, df['Oldpeak'])\n"
      ]
    },
    {
      "cell_type": "code",
      "execution_count": 19,
      "metadata": {
        "id": "RO1JcyVfYnJa"
      },
      "outputs": [],
      "source": [
        "from sklearn.model_selection import train_test_split\n",
        "from sklearn.svm import SVC\n",
        "from sklearn.preprocessing import LabelEncoder, StandardScaler\n",
        "from sklearn.metrics import accuracy_score, classification_report, confusion_matrix\n",
        "from sklearn.model_selection import cross_val_score"
      ]
    },
    {
      "cell_type": "code",
      "execution_count": 20,
      "metadata": {
        "id": "n3U0dyFCYzI6"
      },
      "outputs": [],
      "source": [
        "X = df.drop(columns=[\"HeartDisease\"])\n",
        "y = df[\"HeartDisease\"]"
      ]
    },
    {
      "cell_type": "markdown",
      "metadata": {
        "id": "cTgF7jgL9BFe"
      },
      "source": [
        "# Data Preprocessing\n",
        "* **Encoding categorical features and splitting the data into training and testing sets.**\n",
        "\n"
      ]
    },
    {
      "cell_type": "code",
      "execution_count": 21,
      "metadata": {
        "id": "Xi8ovZXI0XYn"
      },
      "outputs": [],
      "source": [
        "categorical_features = ['Sex', 'ChestPainType', 'RestingECG', 'ExerciseAngina', 'ST_Slope']\n",
        "for feature in categorical_features:\n",
        "    le = LabelEncoder()\n",
        "    X[feature] = le.fit_transform(X[feature])"
      ]
    },
    {
      "cell_type": "code",
      "execution_count": 22,
      "metadata": {
        "id": "4tJSBOo1Y_yz"
      },
      "outputs": [],
      "source": [
        "X_train, X_test, y_train, y_test = train_test_split(X, y, test_size=0.3, random_state=42, stratify=y)\n"
      ]
    },
    {
      "cell_type": "markdown",
      "metadata": {
        "id": "qcSWHc2h9TQS"
      },
      "source": [
        "# Correlation matrix"
      ]
    },
    {
      "cell_type": "code",
      "execution_count": 23,
      "metadata": {
        "colab": {
          "base_uri": "https://localhost:8080/",
          "height": 791
        },
        "id": "CeQ_pYRuEw47",
        "outputId": "fd6655f4-1065-4b6c-f6dc-7a21c48fe6e9"
      },
      "outputs": [
        {
          "data": {
            "image/png": "[encoded data removed]",
            "text/plain": [
              "<Figure size 1000x800 with 2 Axes>"
            ]
          },
          "metadata": {},
          "output_type": "display_data"
        }
      ],
      "source": [
        "\n",
        "corr = X_train.corr()\n",
        "\n",
        "\n",
        "plt.figure(figsize=(10, 8))\n",
        "sns.heatmap(corr, annot=True, fmt=\".2f\", cmap='coolwarm', vmin=-1, vmax=1, linewidths=0.5)\n",
        "plt.title(\"Correlation Map of Features\")\n",
        "plt.show()"
      ]
    },
    {
      "cell_type": "code",
      "execution_count": 24,
      "metadata": {
        "id": "qQIZBOmw4ZHS"
      },
      "outputs": [],
      "source": [
        "scaler = StandardScaler()\n",
        "\n",
        "X_train_scaled = scaler.fit_transform(X_train)\n",
        "\n",
        "X_test_scaled = scaler.transform(X_test)\n"
      ]
    },
    {
      "cell_type": "markdown",
      "metadata": {
        "id": "t46_d1Zx9atH"
      },
      "source": [
        "# Model Training and Evaluation\n",
        "\n",
        "* Training and evaluating\n",
        "\n",
        "\n",
        "1.   SVM\n",
        "2.   Decision Tree\n",
        "3.   Random Forest\n",
        "\n",
        "\n",
        "\n",
        "\n",
        "\n",
        "\n",
        "\n"
      ]
    },
    {
      "cell_type": "code",
      "execution_count": 25,
      "metadata": {
        "colab": {
          "base_uri": "https://localhost:8080/",
          "height": 80
        },
        "id": "HNkN9svnZHhJ",
        "outputId": "9f14800c-0b38-4878-e8ce-94c2f02fa2c9"
      },
      "outputs": [
        {
          "data": {
            "text/html": [
              "<style>#sk-container-id-1 {\n",
              "  /* Definition of color scheme common for light and dark mode */\n",
              "  --sklearn-color-text: #000;\n",
              "  --sklearn-color-text-muted: #666;\n",
              "  --sklearn-color-line: gray;\n",
              "  /* Definition of color scheme for unfitted estimators */\n",
              "  --sklearn-color-unfitted-level-0: #fff5e6;\n",
              "  --sklearn-color-unfitted-level-1: #f6e4d2;\n",
              "  --sklearn-color-unfitted-level-2: #ffe0b3;\n",
              "  --sklearn-color-unfitted-level-3: chocolate;\n",
              "  /* Definition of color scheme for fitted estimators */\n",
              "  --sklearn-color-fitted-level-0: #f0f8ff;\n",
              "  --sklearn-color-fitted-level-1: #d4ebff;\n",
              "  --sklearn-color-fitted-level-2: #b3dbfd;\n",
              "  --sklearn-color-fitted-level-3: cornflowerblue;\n",
              "\n",
              "  /* Specific color for light theme */\n",
              "  --sklearn-color-text-on-default-background: var(--sg-text-color, var(--theme-code-foreground, var(--jp-content-font-color1, black)));\n",
              "  --sklearn-color-background: var(--sg-background-color, var(--theme-background, var(--jp-layout-color0, white)));\n",
              "  --sklearn-color-border-box: var(--sg-text-color, var(--theme-code-foreground, var(--jp-content-font-color1, black)));\n",
              "  --sklearn-color-icon: #696969;\n",
              "\n",
              "  @media (prefers-color-scheme: dark) {\n",
              "    /* Redefinition of color scheme for dark theme */\n",
              "    --sklearn-color-text-on-default-background: var(--sg-text-color, var(--theme-code-foreground, var(--jp-content-font-color1, white)));\n",
              "    --sklearn-color-background: var(--sg-background-color, var(--theme-background, var(--jp-layout-color0, #111)));\n",
              "    --sklearn-color-border-box: var(--sg-text-color, var(--theme-code-foreground, var(--jp-content-font-color1, white)));\n",
              "    --sklearn-color-icon: #878787;\n",
              "  }\n",
              "}\n",
              "\n",
              "#sk-container-id-1 {\n",
              "  color: var(--sklearn-color-text);\n",
              "}\n",
              "\n",
              "#sk-container-id-1 pre {\n",
              "  padding: 0;\n",
              "}\n",
              "\n",
              "#sk-container-id-1 input.sk-hidden--visually {\n",
              "  border: 0;\n",
              "  clip: rect(1px 1px 1px 1px);\n",
              "  clip: rect(1px, 1px, 1px, 1px);\n",
              "  height: 1px;\n",
              "  margin: -1px;\n",
              "  overflow: hidden;\n",
              "  padding: 0;\n",
              "  position: absolute;\n",
              "  width: 1px;\n",
              "}\n",
              "\n",
              "#sk-container-id-1 div.sk-dashed-wrapped {\n",
              "  border: 1px dashed var(--sklearn-color-line);\n",
              "  margin: 0 0.4em 0.5em 0.4em;\n",
              "  box-sizing: border-box;\n",
              "  padding-bottom: 0.4em;\n",
              "  background-color: var(--sklearn-color-background);\n",
              "}\n",
              "\n",
              "#sk-container-id-1 div.sk-container {\n",
              "  /* jupyter's `normalize.less` sets `[hidden] { display: none; }`\n",
              "     but bootstrap.min.css set `[hidden] { display: none !important; }`\n",
              "     so we also need the `!important` here to be able to override the\n",
              "     default hidden behavior on the sphinx rendered scikit-learn.org.\n",
              "     See: https://github.com/scikit-learn/scikit-learn/issues/21755 */\n",
              "  display: inline-block !important;\n",
              "  position: relative;\n",
              "}\n",
              "\n",
              "#sk-container-id-1 div.sk-text-repr-fallback {\n",
              "  display: none;\n",
              "}\n",
              "\n",
              "div.sk-parallel-item,\n",
              "div.sk-serial,\n",
              "div.sk-item {\n",
              "  /* draw centered vertical line to link estimators */\n",
              "  background-image: linear-gradient(var(--sklearn-color-text-on-default-background), var(--sklearn-color-text-on-default-background));\n",
              "  background-size: 2px 100%;\n",
              "  background-repeat: no-repeat;\n",
              "  background-position: center center;\n",
              "}\n",
              "\n",
              "/* Parallel-specific style estimator block */\n",
              "\n",
              "#sk-container-id-1 div.sk-parallel-item::after {\n",
              "  content: \"\";\n",
              "  width: 100%;\n",
              "  border-bottom: 2px solid var(--sklearn-color-text-on-default-background);\n",
              "  flex-grow: 1;\n",
              "}\n",
              "\n",
              "#sk-container-id-1 div.sk-parallel {\n",
              "  display: flex;\n",
              "  align-items: stretch;\n",
              "  justify-content: center;\n",
              "  background-color: var(--sklearn-color-background);\n",
              "  position: relative;\n",
              "}\n",
              "\n",
              "#sk-container-id-1 div.sk-parallel-item {\n",
              "  display: flex;\n",
              "  flex-direction: column;\n",
              "}\n",
              "\n",
              "#sk-container-id-1 div.sk-parallel-item:first-child::after {\n",
              "  align-self: flex-end;\n",
              "  width: 50%;\n",
              "}\n",
              "\n",
              "#sk-container-id-1 div.sk-parallel-item:last-child::after {\n",
              "  align-self: flex-start;\n",
              "  width: 50%;\n",
              "}\n",
              "\n",
              "#sk-container-id-1 div.sk-parallel-item:only-child::after {\n",
              "  width: 0;\n",
              "}\n",
              "\n",
              "/* Serial-specific style estimator block */\n",
              "\n",
              "#sk-container-id-1 div.sk-serial {\n",
              "  display: flex;\n",
              "  flex-direction: column;\n",
              "  align-items: center;\n",
              "  background-color: var(--sklearn-color-background);\n",
              "  padding-right: 1em;\n",
              "  padding-left: 1em;\n",
              "}\n",
              "\n",
              "\n",
              "/* Toggleable style: style used for estimator/Pipeline/ColumnTransformer box that is\n",
              "clickable and can be expanded/collapsed.\n",
              "- Pipeline and ColumnTransformer use this feature and define the default style\n",
              "- Estimators will overwrite some part of the style using the `sk-estimator` class\n",
              "*/\n",
              "\n",
              "/* Pipeline and ColumnTransformer style (default) */\n",
              "\n",
              "#sk-container-id-1 div.sk-toggleable {\n",
              "  /* Default theme specific background. It is overwritten whether we have a\n",
              "  specific estimator or a Pipeline/ColumnTransformer */\n",
              "  background-color: var(--sklearn-color-background);\n",
              "}\n",
              "\n",
              "/* Toggleable label */\n",
              "#sk-container-id-1 label.sk-toggleable__label {\n",
              "  cursor: pointer;\n",
              "  display: flex;\n",
              "  width: 100%;\n",
              "  margin-bottom: 0;\n",
              "  padding: 0.5em;\n",
              "  box-sizing: border-box;\n",
              "  text-align: center;\n",
              "  align-items: start;\n",
              "  justify-content: space-between;\n",
              "  gap: 0.5em;\n",
              "}\n",
              "\n",
              "#sk-container-id-1 label.sk-toggleable__label .caption {\n",
              "  font-size: 0.6rem;\n",
              "  font-weight: lighter;\n",
              "  color: var(--sklearn-color-text-muted);\n",
              "}\n",
              "\n",
              "#sk-container-id-1 label.sk-toggleable__label-arrow:before {\n",
              "  /* Arrow on the left of the label */\n",
              "  content: \"▸\";\n",
              "  float: left;\n",
              "  margin-right: 0.25em;\n",
              "  color: var(--sklearn-color-icon);\n",
              "}\n",
              "\n",
              "#sk-container-id-1 label.sk-toggleable__label-arrow:hover:before {\n",
              "  color: var(--sklearn-color-text);\n",
              "}\n",
              "\n",
              "/* Toggleable content - dropdown */\n",
              "\n",
              "#sk-container-id-1 div.sk-toggleable__content {\n",
              "  max-height: 0;\n",
              "  max-width: 0;\n",
              "  overflow: hidden;\n",
              "  text-align: left;\n",
              "  /* unfitted */\n",
              "  background-color: var(--sklearn-color-unfitted-level-0);\n",
              "}\n",
              "\n",
              "#sk-container-id-1 div.sk-toggleable__content.fitted {\n",
              "  /* fitted */\n",
              "  background-color: var(--sklearn-color-fitted-level-0);\n",
              "}\n",
              "\n",
              "#sk-container-id-1 div.sk-toggleable__content pre {\n",
              "  margin: 0.2em;\n",
              "  border-radius: 0.25em;\n",
              "  color: var(--sklearn-color-text);\n",
              "  /* unfitted */\n",
              "  background-color: var(--sklearn-color-unfitted-level-0);\n",
              "}\n",
              "\n",
              "#sk-container-id-1 div.sk-toggleable__content.fitted pre {\n",
              "  /* unfitted */\n",
              "  background-color: var(--sklearn-color-fitted-level-0);\n",
              "}\n",
              "\n",
              "#sk-container-id-1 input.sk-toggleable__control:checked~div.sk-toggleable__content {\n",
              "  /* Expand drop-down */\n",
              "  max-height: 200px;\n",
              "  max-width: 100%;\n",
              "  overflow: auto;\n",
              "}\n",
              "\n",
              "#sk-container-id-1 input.sk-toggleable__control:checked~label.sk-toggleable__label-arrow:before {\n",
              "  content: \"▾\";\n",
              "}\n",
              "\n",
              "/* Pipeline/ColumnTransformer-specific style */\n",
              "\n",
              "#sk-container-id-1 div.sk-label input.sk-toggleable__control:checked~label.sk-toggleable__label {\n",
              "  color: var(--sklearn-color-text);\n",
              "  background-color: var(--sklearn-color-unfitted-level-2);\n",
              "}\n",
              "\n",
              "#sk-container-id-1 div.sk-label.fitted input.sk-toggleable__control:checked~label.sk-toggleable__label {\n",
              "  background-color: var(--sklearn-color-fitted-level-2);\n",
              "}\n",
              "\n",
              "/* Estimator-specific style */\n",
              "\n",
              "/* Colorize estimator box */\n",
              "#sk-container-id-1 div.sk-estimator input.sk-toggleable__control:checked~label.sk-toggleable__label {\n",
              "  /* unfitted */\n",
              "  background-color: var(--sklearn-color-unfitted-level-2);\n",
              "}\n",
              "\n",
              "#sk-container-id-1 div.sk-estimator.fitted input.sk-toggleable__control:checked~label.sk-toggleable__label {\n",
              "  /* fitted */\n",
              "  background-color: var(--sklearn-color-fitted-level-2);\n",
              "}\n",
              "\n",
              "#sk-container-id-1 div.sk-label label.sk-toggleable__label,\n",
              "#sk-container-id-1 div.sk-label label {\n",
              "  /* The background is the default theme color */\n",
              "  color: var(--sklearn-color-text-on-default-background);\n",
              "}\n",
              "\n",
              "/* On hover, darken the color of the background */\n",
              "#sk-container-id-1 div.sk-label:hover label.sk-toggleable__label {\n",
              "  color: var(--sklearn-color-text);\n",
              "  background-color: var(--sklearn-color-unfitted-level-2);\n",
              "}\n",
              "\n",
              "/* Label box, darken color on hover, fitted */\n",
              "#sk-container-id-1 div.sk-label.fitted:hover label.sk-toggleable__label.fitted {\n",
              "  color: var(--sklearn-color-text);\n",
              "  background-color: var(--sklearn-color-fitted-level-2);\n",
              "}\n",
              "\n",
              "/* Estimator label */\n",
              "\n",
              "#sk-container-id-1 div.sk-label label {\n",
              "  font-family: monospace;\n",
              "  font-weight: bold;\n",
              "  display: inline-block;\n",
              "  line-height: 1.2em;\n",
              "}\n",
              "\n",
              "#sk-container-id-1 div.sk-label-container {\n",
              "  text-align: center;\n",
              "}\n",
              "\n",
              "/* Estimator-specific */\n",
              "#sk-container-id-1 div.sk-estimator {\n",
              "  font-family: monospace;\n",
              "  border: 1px dotted var(--sklearn-color-border-box);\n",
              "  border-radius: 0.25em;\n",
              "  box-sizing: border-box;\n",
              "  margin-bottom: 0.5em;\n",
              "  /* unfitted */\n",
              "  background-color: var(--sklearn-color-unfitted-level-0);\n",
              "}\n",
              "\n",
              "#sk-container-id-1 div.sk-estimator.fitted {\n",
              "  /* fitted */\n",
              "  background-color: var(--sklearn-color-fitted-level-0);\n",
              "}\n",
              "\n",
              "/* on hover */\n",
              "#sk-container-id-1 div.sk-estimator:hover {\n",
              "  /* unfitted */\n",
              "  background-color: var(--sklearn-color-unfitted-level-2);\n",
              "}\n",
              "\n",
              "#sk-container-id-1 div.sk-estimator.fitted:hover {\n",
              "  /* fitted */\n",
              "  background-color: var(--sklearn-color-fitted-level-2);\n",
              "}\n",
              "\n",
              "/* Specification for estimator info (e.g. \"i\" and \"?\") */\n",
              "\n",
              "/* Common style for \"i\" and \"?\" */\n",
              "\n",
              ".sk-estimator-doc-link,\n",
              "a:link.sk-estimator-doc-link,\n",
              "a:visited.sk-estimator-doc-link {\n",
              "  float: right;\n",
              "  font-size: smaller;\n",
              "  line-height: 1em;\n",
              "  font-family: monospace;\n",
              "  background-color: var(--sklearn-color-background);\n",
              "  border-radius: 1em;\n",
              "  height: 1em;\n",
              "  width: 1em;\n",
              "  text-decoration: none !important;\n",
              "  margin-left: 0.5em;\n",
              "  text-align: center;\n",
              "  /* unfitted */\n",
              "  border: var(--sklearn-color-unfitted-level-1) 1pt solid;\n",
              "  color: var(--sklearn-color-unfitted-level-1);\n",
              "}\n",
              "\n",
              ".sk-estimator-doc-link.fitted,\n",
              "a:link.sk-estimator-doc-link.fitted,\n",
              "a:visited.sk-estimator-doc-link.fitted {\n",
              "  /* fitted */\n",
              "  border: var(--sklearn-color-fitted-level-1) 1pt solid;\n",
              "  color: var(--sklearn-color-fitted-level-1);\n",
              "}\n",
              "\n",
              "/* On hover */\n",
              "div.sk-estimator:hover .sk-estimator-doc-link:hover,\n",
              ".sk-estimator-doc-link:hover,\n",
              "div.sk-label-container:hover .sk-estimator-doc-link:hover,\n",
              ".sk-estimator-doc-link:hover {\n",
              "  /* unfitted */\n",
              "  background-color: var(--sklearn-color-unfitted-level-3);\n",
              "  color: var(--sklearn-color-background);\n",
              "  text-decoration: none;\n",
              "}\n",
              "\n",
              "div.sk-estimator.fitted:hover .sk-estimator-doc-link.fitted:hover,\n",
              ".sk-estimator-doc-link.fitted:hover,\n",
              "div.sk-label-container:hover .sk-estimator-doc-link.fitted:hover,\n",
              ".sk-estimator-doc-link.fitted:hover {\n",
              "  /* fitted */\n",
              "  background-color: var(--sklearn-color-fitted-level-3);\n",
              "  color: var(--sklearn-color-background);\n",
              "  text-decoration: none;\n",
              "}\n",
              "\n",
              "/* Span, style for the box shown on hovering the info icon */\n",
              ".sk-estimator-doc-link span {\n",
              "  display: none;\n",
              "  z-index: 9999;\n",
              "  position: relative;\n",
              "  font-weight: normal;\n",
              "  right: .2ex;\n",
              "  padding: .5ex;\n",
              "  margin: .5ex;\n",
              "  width: min-content;\n",
              "  min-width: 20ex;\n",
              "  max-width: 50ex;\n",
              "  color: var(--sklearn-color-text);\n",
              "  box-shadow: 2pt 2pt 4pt #999;\n",
              "  /* unfitted */\n",
              "  background: var(--sklearn-color-unfitted-level-0);\n",
              "  border: .5pt solid var(--sklearn-color-unfitted-level-3);\n",
              "}\n",
              "\n",
              ".sk-estimator-doc-link.fitted span {\n",
              "  /* fitted */\n",
              "  background: var(--sklearn-color-fitted-level-0);\n",
              "  border: var(--sklearn-color-fitted-level-3);\n",
              "}\n",
              "\n",
              ".sk-estimator-doc-link:hover span {\n",
              "  display: block;\n",
              "}\n",
              "\n",
              "/* \"?\"-specific style due to the `<a>` HTML tag */\n",
              "\n",
              "#sk-container-id-1 a.estimator_doc_link {\n",
              "  float: right;\n",
              "  font-size: 1rem;\n",
              "  line-height: 1em;\n",
              "  font-family: monospace;\n",
              "  background-color: var(--sklearn-color-background);\n",
              "  border-radius: 1rem;\n",
              "  height: 1rem;\n",
              "  width: 1rem;\n",
              "  text-decoration: none;\n",
              "  /* unfitted */\n",
              "  color: var(--sklearn-color-unfitted-level-1);\n",
              "  border: var(--sklearn-color-unfitted-level-1) 1pt solid;\n",
              "}\n",
              "\n",
              "#sk-container-id-1 a.estimator_doc_link.fitted {\n",
              "  /* fitted */\n",
              "  border: var(--sklearn-color-fitted-level-1) 1pt solid;\n",
              "  color: var(--sklearn-color-fitted-level-1);\n",
              "}\n",
              "\n",
              "/* On hover */\n",
              "#sk-container-id-1 a.estimator_doc_link:hover {\n",
              "  /* unfitted */\n",
              "  background-color: var(--sklearn-color-unfitted-level-3);\n",
              "  color: var(--sklearn-color-background);\n",
              "  text-decoration: none;\n",
              "}\n",
              "\n",
              "#sk-container-id-1 a.estimator_doc_link.fitted:hover {\n",
              "  /* fitted */\n",
              "  background-color: var(--sklearn-color-fitted-level-3);\n",
              "}\n",
              "</style><div id=\"sk-container-id-1\" class=\"sk-top-container\"><div class=\"sk-text-repr-fallback\"><pre>SVC(kernel=&#x27;linear&#x27;, random_state=42)</pre><b>In a Jupyter environment, please rerun this cell to show the HTML representation or trust the notebook. <br />On GitHub, the HTML representation is unable to render, please try loading this page with nbviewer.org.</b></div><div class=\"sk-container\" hidden><div class=\"sk-item\"><div class=\"sk-estimator fitted sk-toggleable\"><input class=\"sk-toggleable__control sk-hidden--visually\" id=\"sk-estimator-id-1\" type=\"checkbox\" checked><label for=\"sk-estimator-id-1\" class=\"sk-toggleable__label fitted sk-toggleable__label-arrow\"><div><div>SVC</div></div><div><a class=\"sk-estimator-doc-link fitted\" rel=\"noreferrer\" target=\"_blank\" href=\"https://scikit-learn.org/1.6/modules/generated/sklearn.svm.SVC.html\">?<span>Documentation for SVC</span></a><span class=\"sk-estimator-doc-link fitted\">i<span>Fitted</span></span></div></label><div class=\"sk-toggleable__content fitted\"><pre>SVC(kernel=&#x27;linear&#x27;, random_state=42)</pre></div> </div></div></div></div>"
            ],
            "text/plain": [
              "SVC(kernel='linear', random_state=42)"
            ]
          },
          "execution_count": 25,
          "metadata": {},
          "output_type": "execute_result"
        }
      ],
      "source": [
        "svm_model = SVC(kernel=\"linear\", C=1.0, random_state=42)\n",
        "svm_model.fit(X_train, y_train)"
      ]
    },
    {
      "cell_type": "code",
      "execution_count": 26,
      "metadata": {
        "id": "-40QniWLZK-2"
      },
      "outputs": [],
      "source": [
        "y_pred = svm_model.predict(X_test)"
      ]
    },
    {
      "cell_type": "code",
      "execution_count": 27,
      "metadata": {
        "id": "AlGlrjLjZMEn"
      },
      "outputs": [],
      "source": [
        "accuracy = accuracy_score(y_test, y_pred)\n",
        "\n",
        "conf_matrix = confusion_matrix(y_test, y_pred)\n",
        "\n",
        "class_report = classification_report(y_test, y_pred)\n",
        "\n",
        "val = cross_val_score(svm_model, X_train, y_train, cv=5, scoring='accuracy')"
      ]
    },
    {
      "cell_type": "code",
      "execution_count": 28,
      "metadata": {
        "colab": {
          "base_uri": "https://localhost:8080/"
        },
        "id": "aZ1Jdjf0ZtL6",
        "outputId": "3a0ecee2-7547-4113-b9da-4cfc775bbaaa"
      },
      "outputs": [
        {
          "name": "stdout",
          "output_type": "stream",
          "text": [
            "Accuracy: 0.8586956521739131\n",
            "Cross-validation scores: [0.8372093  0.82170543 0.8359375  0.890625   0.75      ]\n"
          ]
        }
      ],
      "source": [
        "print(\"Accuracy:\", accuracy)\n",
        "print(\"Cross-validation scores:\" ,val)"
      ]
    },
    {
      "cell_type": "code",
      "execution_count": 29,
      "metadata": {
        "colab": {
          "base_uri": "https://localhost:8080/"
        },
        "id": "QOQWMWDZZxgg",
        "outputId": "cfca91f0-2a07-4343-cece-107dfe56442c"
      },
      "outputs": [
        {
          "name": "stdout",
          "output_type": "stream",
          "text": [
            "Confusion Matrix:\n",
            " [[101  22]\n",
            " [ 17 136]]\n"
          ]
        }
      ],
      "source": [
        "print(\"Confusion Matrix:\\n\", conf_matrix)"
      ]
    },
    {
      "cell_type": "code",
      "execution_count": 30,
      "metadata": {
        "colab": {
          "base_uri": "https://localhost:8080/",
          "height": 449
        },
        "id": "mhUBqXF4TKAd",
        "outputId": "7e123087-2590-4c56-df75-fcef3b4a434c"
      },
      "outputs": [
        {
          "data": {
            "image/png": "[encoded data removed]",
            "text/plain": [
              "<Figure size 640x480 with 2 Axes>"
            ]
          },
          "metadata": {},
          "output_type": "display_data"
        }
      ],
      "source": [
        "cm = confusion_matrix(y_test, y_pred)\n",
        "\n",
        "\n",
        "sns.heatmap(cm, annot=True, fmt='d', cmap='Blues')\n",
        "plt.xlabel('Predicted')\n",
        "plt.ylabel('Actual')\n",
        "plt.show()"
      ]
    },
    {
      "cell_type": "code",
      "execution_count": 31,
      "metadata": {
        "colab": {
          "base_uri": "https://localhost:8080/"
        },
        "id": "cwSnXA9wZ7Ym",
        "outputId": "d2364c1e-c80f-4f4d-9899-e2bf10bebe12"
      },
      "outputs": [
        {
          "name": "stdout",
          "output_type": "stream",
          "text": [
            "Classification Report:\n",
            "               precision    recall  f1-score   support\n",
            "\n",
            "           0       0.86      0.82      0.84       123\n",
            "           1       0.86      0.89      0.87       153\n",
            "\n",
            "    accuracy                           0.86       276\n",
            "   macro avg       0.86      0.86      0.86       276\n",
            "weighted avg       0.86      0.86      0.86       276\n",
            "\n"
          ]
        }
      ],
      "source": [
        "print(\"Classification Report:\\n\", class_report)"
      ]
    },
    {
      "cell_type": "code",
      "execution_count": 32,
      "metadata": {
        "id": "AavNAXZxF9jb"
      },
      "outputs": [],
      "source": [
        "from sklearn.tree import DecisionTreeClassifier"
      ]
    },
    {
      "cell_type": "code",
      "execution_count": 75,
      "metadata": {
        "id": "vyLz5-r0F0Qq"
      },
      "outputs": [],
      "source": [
        "dt_model = DecisionTreeClassifier(criterion='gini', max_depth=50, random_state=42)\n",
        "dt_model.fit(X_train, y_train)\n",
        "y_pred_dt = dt_model.predict(X_test)\n",
        "accuracy_dt = accuracy_score(y_test, y_pred_dt)"
      ]
    },
    {
      "cell_type": "code",
      "execution_count": 76,
      "metadata": {
        "colab": {
          "base_uri": "https://localhost:8080/"
        },
        "id": "3uaEWqyGGAQD",
        "outputId": "1444fb86-a9a2-40d4-ad42-b6c64f1dea4b"
      },
      "outputs": [
        {
          "name": "stdout",
          "output_type": "stream",
          "text": [
            "Decision Tree Accuracy: 0.8333333333333334\n",
            "Cross-validation scores: [0.82208589 0.82822086 0.7654321  0.79012346 0.77777778]\n"
          ]
        }
      ],
      "source": [
        "print(\"Decision Tree Accuracy:\", accuracy_score(y_test, y_pred_dt))\n",
        "val_dt = cross_val_score(dt_model, X_train, y_train, cv=5, scoring='accuracy')\n",
        "print(\"Cross-validation scores:\" ,val_dt)"
      ]
    },
    {
      "cell_type": "code",
      "execution_count": 74,
      "metadata": {
        "id": "27qlTvQn-01A"
      },
      "outputs": [],
      "source": [
        "from sklearn.ensemble import RandomForestClassifier"
      ]
    },
    {
      "cell_type": "code",
      "execution_count": 62,
      "metadata": {
        "id": "TUG6-5av-l0H"
      },
      "outputs": [],
      "source": [
        "\n",
        "rf_model = RandomForestClassifier(n_estimators=100, random_state=42)\n",
        "\n",
        "\n",
        "rf_model.fit(X_train, y_train)\n",
        "y_pred_rf = rf_model.predict(X_test)\n",
        "accuracy_rf = accuracy_score(y_test, y_pred_rf)"
      ]
    },
    {
      "cell_type": "code",
      "execution_count": 63,
      "metadata": {
        "colab": {
          "base_uri": "https://localhost:8080/"
        },
        "id": "dt0ffeCB1G7S",
        "outputId": "986d96ae-7e36-46b6-e86b-fefc871f9d01"
      },
      "outputs": [
        {
          "name": "stdout",
          "output_type": "stream",
          "text": [
            "Random Forest Accuracy: 0.9068627450980392\n",
            "Cross-validation scores: [0.86503067 0.86503067 0.85802469 0.84567901 0.85802469]\n"
          ]
        }
      ],
      "source": [
        "print(\"Random Forest Accuracy:\", accuracy_rf)\n",
        "val_rf = cross_val_score(rf_model, X_train, y_train, cv=5, scoring='accuracy')\n",
        "print(\"Cross-validation scores:\" ,val_rf)"
      ]
    },
    {
      "cell_type": "markdown",
      "metadata": {
        "id": "w6iKglRZ-DLq"
      },
      "source": [
        "# Hyperparameter tuning for the Decision Tree model."
      ]
    },
    {
      "cell_type": "code",
      "execution_count": 77,
      "metadata": {
        "id": "wNvZRFl0GKDb"
      },
      "outputs": [],
      "source": [
        "from sklearn.model_selection import GridSearchCV\n",
        "param_grid = {'max_depth': [10, 50, 100], 'min_samples_split': [2, 5, 10]}\n",
        "grid_search = GridSearchCV(DecisionTreeClassifier(random_state=42), param_grid, cv=5)\n",
        "grid_search.fit(X_train, y_train)\n",
        "best_dt_model = grid_search.best_estimator_\n",
        "y_pred_best_dt = best_dt_model.predict(X_test)\n",
        "accuracy_best_dt = accuracy_score(y_test, y_pred_best_dt)"
      ]
    },
    {
      "cell_type": "code",
      "execution_count": 78,
      "metadata": {
        "colab": {
          "base_uri": "https://localhost:8080/"
        },
        "id": "QEziTmi71T7p",
        "outputId": "8b589eeb-68d3-45bb-8eef-cb7c7b295ac9"
      },
      "outputs": [
        {
          "name": "stdout",
          "output_type": "stream",
          "text": [
            "Best Decision Tree Accuracy: 0.8480392156862745\n",
            "Best Parameters: {'max_depth': 10, 'min_samples_split': 10}\n"
          ]
        }
      ],
      "source": [
        "print(\"Best Decision Tree Accuracy:\", accuracy_best_dt)\n",
        "print(\"Best Parameters:\", grid_search.best_params_)"
      ]
    },
    {
      "cell_type": "code",
      "execution_count": 79,
      "metadata": {
        "id": "YF4RsJr7-Py9"
      },
      "outputs": [],
      "source": [
        "dt_model = DecisionTreeClassifier(max_depth=10, min_samples_split=10, random_state=42)\n",
        "dt_model.fit(X_train, y_train)\n",
        "y_pred_dt = dt_model.predict(X_test)\n",
        "accuracy_dt = accuracy_score(y_test, y_pred_dt)"
      ]
    },
    {
      "cell_type": "code",
      "execution_count": 80,
      "metadata": {
        "colab": {
          "base_uri": "https://localhost:8080/"
        },
        "id": "AKbUW_LJ_bj1",
        "outputId": "abb63417-5581-4f71-b83d-ec66ba2f1770"
      },
      "outputs": [
        {
          "name": "stdout",
          "output_type": "stream",
          "text": [
            "Decision Tree Accuracy: 0.8480392156862745\n",
            "Cross-validation scores: [0.82822086 0.85889571 0.74074074 0.77777778 0.80864198]\n"
          ]
        }
      ],
      "source": [
        "print(\"Decision Tree Accuracy:\", accuracy_score(y_test, y_pred_dt))\n",
        "val_dt = cross_val_score(dt_model, X_train, y_train, cv=5, scoring='accuracy')\n",
        "print(\"Cross-validation scores:\" ,val_dt)"
      ]
    },
    {
      "cell_type": "markdown",
      "metadata": {
        "id": "Jpd4lkNi_ito"
      },
      "source": [
        "# Confusion Matrix and Classification Report\n",
        "\n",
        "* **Visualizing confusion matrices and printing classification reports for each model.**\n",
        "\n",
        "\n"
      ]
    },
    {
      "cell_type": "code",
      "execution_count": null,
      "metadata": {
        "colab": {
          "base_uri": "https://localhost:8080/"
        },
        "id": "_pUsCcO6bzEa",
        "outputId": "1c0dfc09-29c1-44b8-d6bf-a02337f9f201"
      },
      "outputs": [
        {
          "name": "stdout",
          "output_type": "stream",
          "text": [
            "SVM Accuracy: 0.9068627450980392\n",
            "Decision Tree Accuracy: 0.8480392156862745\n",
            "Random Forest Accuracy: 0.9068627450980392\n"
          ]
        }
      ],
      "source": [
        "print(\"SVM Accuracy:\", accuracy)\n",
        "print(\"Decision Tree Accuracy:\", accuracy_score(y_test, y_pred_dt))\n",
        "print(\"Random Forest Accuracy:\", accuracy_rf)"
      ]
    },
    {
      "cell_type": "code",
      "execution_count": 82,
      "metadata": {
        "colab": {
          "base_uri": "https://localhost:8080/",
          "height": 564
        },
        "id": "jR45__E71uYc",
        "outputId": "7860ff84-f2db-4b88-8799-c2dc3ef13035"
      },
      "outputs": [
        {
          "data": {
            "image/png": "[encoded data removed]",
            "text/plain": [
              "<Figure size 600x600 with 2 Axes>"
            ]
          },
          "metadata": {},
          "output_type": "display_data"
        }
      ],
      "source": [
        "cm_dt = confusion_matrix(y_test, y_pred_dt)\n",
        "plt.figure(figsize=(6, 6))\n",
        "sns.heatmap(cm_dt, annot=True, fmt='d', cmap='Blues')\n",
        "plt.xlabel('Predicted')\n",
        "plt.ylabel('Actual')\n",
        "plt.title('Decision Tree Confusion Matrix')\n",
        "plt.show()\n"
      ]
    },
    {
      "cell_type": "code",
      "execution_count": null,
      "metadata": {
        "colab": {
          "base_uri": "https://localhost:8080/"
        },
        "id": "tQ0nkZmu1w7C",
        "outputId": "6c251d91-60d2-4f07-f73e-4526d19df404"
      },
      "outputs": [
        {
          "name": "stdout",
          "output_type": "stream",
          "text": [
            "\n",
            "Decision Tree Classification Report:\n",
            "              precision    recall  f1-score   support\n",
            "\n",
            "           0       0.82      0.89      0.85       102\n",
            "           1       0.88      0.80      0.84       102\n",
            "\n",
            "    accuracy                           0.85       204\n",
            "   macro avg       0.85      0.85      0.85       204\n",
            "weighted avg       0.85      0.85      0.85       204\n",
            "\n"
          ]
        }
      ],
      "source": [
        "print(\"Decision Tree Classification Report:\")\n",
        "print(classification_report(y_test, y_pred_dt))"
      ]
    },
    {
      "cell_type": "code",
      "execution_count": 45,
      "metadata": {
        "colab": {
          "base_uri": "https://localhost:8080/",
          "height": 564
        },
        "id": "BZ2VHQd81z-e",
        "outputId": "f130a29a-39ad-4d02-c7f7-5eec9da029af"
      },
      "outputs": [
        {
          "data": {
            "image/png": "[encoded data removed]",
            "text/plain": [
              "<Figure size 600x600 with 2 Axes>"
            ]
          },
          "metadata": {},
          "output_type": "display_data"
        }
      ],
      "source": [
        "cm_rf = confusion_matrix(y_test, y_pred_rf)\n",
        "plt.figure(figsize=(6, 6))\n",
        "sns.heatmap(cm_rf, annot=True, fmt='d', cmap='Blues')\n",
        "plt.xlabel('Predicted')\n",
        "plt.ylabel('Actual')\n",
        "plt.title('Random Forest Confusion Matrix')\n",
        "plt.show()"
      ]
    },
    {
      "cell_type": "code",
      "execution_count": 46,
      "metadata": {
        "colab": {
          "base_uri": "https://localhost:8080/"
        },
        "id": "yYJAB7shtJcW",
        "outputId": "38ff5c11-f8e2-482f-9030-5bf65cd7b0ce"
      },
      "outputs": [
        {
          "name": "stdout",
          "output_type": "stream",
          "text": [
            "\\RandomForest Classification Report:\n",
            "              precision    recall  f1-score   support\n",
            "\n",
            "           0       0.90      0.87      0.88       123\n",
            "           1       0.90      0.92      0.91       153\n",
            "\n",
            "    accuracy                           0.90       276\n",
            "   macro avg       0.90      0.90      0.90       276\n",
            "weighted avg       0.90      0.90      0.90       276\n",
            "\n"
          ]
        }
      ],
      "source": [
        "print(\"\\RandomForest Classification Report:\")\n",
        "print(classification_report(y_test, y_pred_rf))"
      ]
    }
  ],
  "metadata": {
    "colab": {
      "provenance": []
    },
    "kernelspec": {
      "display_name": "Python 3",
      "name": "python3"
    },
    "language_info": {
      "name": "python"
    }
  },
  "nbformat": 4,
  "nbformat_minor": 0
}
